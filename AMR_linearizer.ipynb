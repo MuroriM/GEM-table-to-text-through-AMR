{
  "nbformat": 4,
  "nbformat_minor": 0,
  "metadata": {
    "colab": {
      "name": "AMR linearizer",
      "provenance": [],
      "collapsed_sections": [],
      "include_colab_link": true
    },
    "kernelspec": {
      "name": "python3",
      "display_name": "Python 3"
    },
    "language_info": {
      "name": "python"
    }
  },
  "cells": [
    {
      "cell_type": "markdown",
      "metadata": {
        "id": "view-in-github",
        "colab_type": "text"
      },
      "source": [
        "<a href=\"https://colab.research.google.com/github/MuroriM/GEM-table-to-text-through-AMR/blob/main/AMR_linearizer.ipynb\" target=\"_parent\"><img src=\"https://colab.research.google.com/assets/colab-badge.svg\" alt=\"Open In Colab\"/></a>"
      ]
    },
    {
      "cell_type": "markdown",
      "metadata": {
        "id": "nSdBIf1IiL7t"
      },
      "source": [
        "# AMR linear to Penman  \n",
        "This code creates the corresponding AMR in Penman notation from a linearized AMR. It creates new AMR variables and adds the appropriate whitespace. It also checks for the validity of AMRs using the amrlib 'valid_amr' function."
      ]
    },
    {
      "cell_type": "code",
      "metadata": {
        "colab": {
          "base_uri": "https://localhost:8080/"
        },
        "id": "8vdd7-LlAek4",
        "outputId": "2d2405f2-a7c3-43e7-ae38-681744f60acb"
      },
      "source": [
        "!pip install amrlib"
      ],
      "execution_count": null,
      "outputs": [
        {
          "output_type": "stream",
          "text": [
            "Requirement already satisfied: amrlib in /usr/local/lib/python3.7/dist-packages (0.5.1)\n",
            "Requirement already satisfied: spacy>=2.0 in /usr/local/lib/python3.7/dist-packages (from amrlib) (2.2.4)\n",
            "Requirement already satisfied: transformers>=3.0 in /usr/local/lib/python3.7/dist-packages (from amrlib) (4.5.1)\n",
            "Requirement already satisfied: smatch in /usr/local/lib/python3.7/dist-packages (from amrlib) (1.0.4)\n",
            "Requirement already satisfied: torch>=1.6 in /usr/local/lib/python3.7/dist-packages (from amrlib) (1.8.1+cu101)\n",
            "Requirement already satisfied: penman>=1.1.0 in /usr/local/lib/python3.7/dist-packages (from amrlib) (1.2.0)\n",
            "Requirement already satisfied: numpy in /usr/local/lib/python3.7/dist-packages (from amrlib) (1.19.5)\n",
            "Requirement already satisfied: tqdm in /usr/local/lib/python3.7/dist-packages (from amrlib) (4.41.1)\n",
            "Requirement already satisfied: cymem<2.1.0,>=2.0.2 in /usr/local/lib/python3.7/dist-packages (from spacy>=2.0->amrlib) (2.0.5)\n",
            "Requirement already satisfied: thinc==7.4.0 in /usr/local/lib/python3.7/dist-packages (from spacy>=2.0->amrlib) (7.4.0)\n",
            "Requirement already satisfied: plac<1.2.0,>=0.9.6 in /usr/local/lib/python3.7/dist-packages (from spacy>=2.0->amrlib) (1.1.3)\n",
            "Requirement already satisfied: setuptools in /usr/local/lib/python3.7/dist-packages (from spacy>=2.0->amrlib) (56.0.0)\n",
            "Requirement already satisfied: wasabi<1.1.0,>=0.4.0 in /usr/local/lib/python3.7/dist-packages (from spacy>=2.0->amrlib) (0.8.2)\n",
            "Requirement already satisfied: catalogue<1.1.0,>=0.0.7 in /usr/local/lib/python3.7/dist-packages (from spacy>=2.0->amrlib) (1.0.0)\n",
            "Requirement already satisfied: requests<3.0.0,>=2.13.0 in /usr/local/lib/python3.7/dist-packages (from spacy>=2.0->amrlib) (2.23.0)\n",
            "Requirement already satisfied: murmurhash<1.1.0,>=0.28.0 in /usr/local/lib/python3.7/dist-packages (from spacy>=2.0->amrlib) (1.0.5)\n",
            "Requirement already satisfied: preshed<3.1.0,>=3.0.2 in /usr/local/lib/python3.7/dist-packages (from spacy>=2.0->amrlib) (3.0.5)\n",
            "Requirement already satisfied: blis<0.5.0,>=0.4.0 in /usr/local/lib/python3.7/dist-packages (from spacy>=2.0->amrlib) (0.4.1)\n",
            "Requirement already satisfied: srsly<1.1.0,>=1.0.2 in /usr/local/lib/python3.7/dist-packages (from spacy>=2.0->amrlib) (1.0.5)\n",
            "Requirement already satisfied: sacremoses in /usr/local/lib/python3.7/dist-packages (from transformers>=3.0->amrlib) (0.0.45)\n",
            "Requirement already satisfied: tokenizers<0.11,>=0.10.1 in /usr/local/lib/python3.7/dist-packages (from transformers>=3.0->amrlib) (0.10.2)\n",
            "Requirement already satisfied: packaging in /usr/local/lib/python3.7/dist-packages (from transformers>=3.0->amrlib) (20.9)\n",
            "Requirement already satisfied: regex!=2019.12.17 in /usr/local/lib/python3.7/dist-packages (from transformers>=3.0->amrlib) (2019.12.20)\n",
            "Requirement already satisfied: filelock in /usr/local/lib/python3.7/dist-packages (from transformers>=3.0->amrlib) (3.0.12)\n",
            "Requirement already satisfied: importlib-metadata; python_version < \"3.8\" in /usr/local/lib/python3.7/dist-packages (from transformers>=3.0->amrlib) (3.10.1)\n",
            "Requirement already satisfied: typing-extensions in /usr/local/lib/python3.7/dist-packages (from torch>=1.6->amrlib) (3.7.4.3)\n",
            "Requirement already satisfied: chardet<4,>=3.0.2 in /usr/local/lib/python3.7/dist-packages (from requests<3.0.0,>=2.13.0->spacy>=2.0->amrlib) (3.0.4)\n",
            "Requirement already satisfied: idna<3,>=2.5 in /usr/local/lib/python3.7/dist-packages (from requests<3.0.0,>=2.13.0->spacy>=2.0->amrlib) (2.10)\n",
            "Requirement already satisfied: urllib3!=1.25.0,!=1.25.1,<1.26,>=1.21.1 in /usr/local/lib/python3.7/dist-packages (from requests<3.0.0,>=2.13.0->spacy>=2.0->amrlib) (1.24.3)\n",
            "Requirement already satisfied: certifi>=2017.4.17 in /usr/local/lib/python3.7/dist-packages (from requests<3.0.0,>=2.13.0->spacy>=2.0->amrlib) (2020.12.5)\n",
            "Requirement already satisfied: joblib in /usr/local/lib/python3.7/dist-packages (from sacremoses->transformers>=3.0->amrlib) (1.0.1)\n",
            "Requirement already satisfied: six in /usr/local/lib/python3.7/dist-packages (from sacremoses->transformers>=3.0->amrlib) (1.15.0)\n",
            "Requirement already satisfied: click in /usr/local/lib/python3.7/dist-packages (from sacremoses->transformers>=3.0->amrlib) (7.1.2)\n",
            "Requirement already satisfied: pyparsing>=2.0.2 in /usr/local/lib/python3.7/dist-packages (from packaging->transformers>=3.0->amrlib) (2.4.7)\n",
            "Requirement already satisfied: zipp>=0.5 in /usr/local/lib/python3.7/dist-packages (from importlib-metadata; python_version < \"3.8\"->transformers>=3.0->amrlib) (3.4.1)\n"
          ],
          "name": "stdout"
        }
      ]
    },
    {
      "cell_type": "code",
      "metadata": {
        "colab": {
          "base_uri": "https://localhost:8080/"
        },
        "id": "uHUTT46j-W2K",
        "outputId": "3c36b58f-a22a-49b3-f55b-fd975e6629c2"
      },
      "source": [
        "# remove files from previous sessions\n",
        "\n",
        "!ls\n",
        "!rm -r AMR test_web smatch\n",
        "!ls"
      ],
      "execution_count": null,
      "outputs": [
        {
          "output_type": "stream",
          "text": [
            "AMR  sample_data  test_web\n",
            "rm: cannot remove 'smatch': No such file or directory\n",
            "sample_data\n"
          ],
          "name": "stdout"
        }
      ]
    },
    {
      "cell_type": "code",
      "metadata": {
        "colab": {
          "base_uri": "https://localhost:8080/"
        },
        "id": "INbgQvGB5-7n",
        "outputId": "9356727e-aecb-4f31-d070-3c58aa9b8663"
      },
      "source": [
        "# load dev, train, test, webnlg data\n",
        "\n",
        "# /content/test_web/webnlg_dev_parsed.jsonl\n",
        "# /content/test_web/webnlg_test_parsed.jsonl\n",
        "# /content/test_web/webnlg_test_parsed.jsonl\n",
        "# respective paths\n",
        "\n",
        "!git clone https://github.com/MuroriM/test_web.git\n",
        "# https://github.com/MuroriM/test_web"
      ],
      "execution_count": null,
      "outputs": [
        {
          "output_type": "stream",
          "text": [
            "Cloning into 'test_web'...\n",
            "remote: Enumerating objects: 5, done.\u001b[K\n",
            "remote: Counting objects: 100% (5/5), done.\u001b[K\n",
            "remote: Compressing objects: 100% (5/5), done.\u001b[K\n",
            "remote: Total 5 (delta 1), reused 0 (delta 0), pack-reused 0\u001b[K\n",
            "Unpacking objects: 100% (5/5), done.\n"
          ],
          "name": "stdout"
        }
      ]
    },
    {
      "cell_type": "markdown",
      "metadata": {
        "id": "FpQDrQmCsWKn"
      },
      "source": [
        "# Character-based AMR translation"
      ]
    },
    {
      "cell_type": "code",
      "metadata": {
        "colab": {
          "base_uri": "https://localhost:8080/"
        },
        "id": "afJNNFfUZzo8",
        "outputId": "7bbb714d-ba50-4be5-c640-c3562844220f"
      },
      "source": [
        "!git clone https://github.com/RikVN/AMR.git\n",
        "# https://github.com/RikVN/AMR"
      ],
      "execution_count": null,
      "outputs": [
        {
          "output_type": "stream",
          "text": [
            "Cloning into 'AMR'...\n",
            "remote: Enumerating objects: 127, done.\u001b[K\n",
            "remote: Total 127 (delta 0), reused 0 (delta 0), pack-reused 127\u001b[K\n",
            "Receiving objects: 100% (127/127), 209.88 KiB | 4.77 MiB/s, done.\n",
            "Resolving deltas: 100% (54/54), done.\n"
          ],
          "name": "stdout"
        }
      ]
    },
    {
      "cell_type": "code",
      "metadata": {
        "colab": {
          "base_uri": "https://localhost:8080/"
        },
        "id": "5gJFeJAGZ4TS",
        "outputId": "0bede44f-4038-4ee1-850d-c7c33300cef2"
      },
      "source": [
        "%cd /content/AMR"
      ],
      "execution_count": null,
      "outputs": [
        {
          "output_type": "stream",
          "text": [
            "/content/AMR\n"
          ],
          "name": "stdout"
        }
      ]
    },
    {
      "cell_type": "code",
      "metadata": {
        "id": "g6oif5W0Z61z",
        "colab": {
          "base_uri": "https://localhost:8080/"
        },
        "outputId": "7ff04c5b-56ea-46c7-86fa-10e73acbba1f"
      },
      "source": [
        "!git clone https://github.com/snowblink14/smatch"
      ],
      "execution_count": null,
      "outputs": [
        {
          "output_type": "stream",
          "text": [
            "Cloning into 'smatch'...\n",
            "remote: Enumerating objects: 147, done.\u001b[K\n",
            "remote: Counting objects: 100% (3/3), done.\u001b[K\n",
            "remote: Compressing objects: 100% (3/3), done.\u001b[K\n",
            "remote: Total 147 (delta 0), reused 2 (delta 0), pack-reused 144\u001b[K\n",
            "Receiving objects: 100% (147/147), 74.56 KiB | 3.39 MiB/s, done.\n",
            "Resolving deltas: 100% (79/79), done.\n"
          ],
          "name": "stdout"
        }
      ]
    },
    {
      "cell_type": "code",
      "metadata": {
        "id": "Kev-EUI1Z9Qb",
        "colab": {
          "base_uri": "https://localhost:8080/"
        },
        "outputId": "57b357d3-f1c4-47c2-da9a-bc192890c25e"
      },
      "source": [
        "!pip install -r requirements.txt"
      ],
      "execution_count": null,
      "outputs": [
        {
          "output_type": "stream",
          "text": [
            "Requirement already satisfied: lxml in /usr/local/lib/python3.7/dist-packages (from -r requirements.txt (line 1)) (4.2.6)\n",
            "Requirement already satisfied: BeautifulSoup4 in /usr/local/lib/python3.7/dist-packages (from -r requirements.txt (line 2)) (4.6.3)\n",
            "Requirement already satisfied: requests in /usr/local/lib/python3.7/dist-packages (from -r requirements.txt (line 3)) (2.23.0)\n",
            "Requirement already satisfied: bs4 in /usr/local/lib/python3.7/dist-packages (from -r requirements.txt (line 4)) (0.0.1)\n",
            "Requirement already satisfied: certifi>=2017.4.17 in /usr/local/lib/python3.7/dist-packages (from requests->-r requirements.txt (line 3)) (2020.12.5)\n",
            "Requirement already satisfied: idna<3,>=2.5 in /usr/local/lib/python3.7/dist-packages (from requests->-r requirements.txt (line 3)) (2.10)\n",
            "Requirement already satisfied: urllib3!=1.25.0,!=1.25.1,<1.26,>=1.21.1 in /usr/local/lib/python3.7/dist-packages (from requests->-r requirements.txt (line 3)) (1.24.3)\n",
            "Requirement already satisfied: chardet<4,>=3.0.2 in /usr/local/lib/python3.7/dist-packages (from requests->-r requirements.txt (line 3)) (3.0.4)\n"
          ],
          "name": "stdout"
        }
      ]
    },
    {
      "cell_type": "code",
      "metadata": {
        "id": "1Swq1dc0AHYj"
      },
      "source": [
        "# This step is important!     # I moved this code up here.. you can find the orig, a few cells down\n",
        "# Though a temporary fix\n",
        "!cp amr_utils.py restoreAMR\n",
        "!cp best_amr_permutation.py restoreAMR\n",
        "!cp var_free_amrs.py restoreAMR"
      ],
      "execution_count": null,
      "outputs": []
    },
    {
      "cell_type": "code",
      "metadata": {
        "id": "vc30ecI6ZYkS"
      },
      "source": [
        "## Modified version of var_free.amrs.py in order to remove newline characters\n",
        "\n",
        "'''Script that removes variables from AMR by duplicating the information, possibly deletes wiki-links\n",
        "   Presupposes that files have a certain extension (default .txt)\n",
        "\n",
        "   Sample input:\n",
        "\n",
        "   # ::snt Bob likes himself.\n",
        "\n",
        "   (l / like\n",
        "        :ARG0 (p / person :name \"Bob\")\n",
        "        :ARG1 p)\n",
        "\n",
        "    Output *.tf:\n",
        "\n",
        "    (like :ARG0 (person :name \"Bob\") :ARG1 (person :name \"Bob\"))'''\n",
        "\n",
        "import sys\n",
        "import re\n",
        "import argparse\n",
        "import os\n",
        "from amr_utils import write_to_file, remove_char_outside_quotes\n",
        "   \n",
        "############################################\n",
        "############################################\n",
        "   ## Modification from original code\n",
        "############################################\n",
        "# Added modules\n",
        "import json\n",
        "import re\n",
        "############################################\n",
        "############################################\n",
        "\n",
        "\n",
        "def create_args_parser():\n",
        "    '''Creating arg parser'''\n",
        "    parser = argparse.ArgumentParser()\n",
        "    parser.add_argument(\"-f\", \"--input_file\", required=True, type=str, help=\"AMR file or folder\")\n",
        "    parser.add_argument('-fol', \"--folder\", action='store_true', help='Add to do multiple files in a folder - if not, args.f is a file')\n",
        "    parser.add_argument('-a', \"--amr_ext\", default='.txt', type=str, help=\"Input files must have this extension (default .txt, only necesary when using -fol)\")\n",
        "    parser.add_argument('-o', '--output_ext', default='.tf', help=\"extension of output AMR files (default .tf)\")\n",
        "    parser.add_argument('-k', '--keep_wiki', action='store_true', help='Keep Wiki link when processing')\n",
        "    args = parser.parse_args()\n",
        "    return args\n",
        "\n",
        "\n",
        "def single_line_convert(lines, sent_file):\n",
        "    '''Convert AMRs to a single line, ignoring lines that start with \"# ::\"\n",
        "      If a sentence file is specified we also try to get the sentences'''\n",
        "    all_amrs, cur_amr, sents = [], [], []\n",
        "    for line in lines:\n",
        "\n",
        "        \n",
        "\n",
        "        ############################################\n",
        "        ############################################\n",
        "        ## Modification from original code\n",
        "        ############################################\n",
        "\n",
        "        ## Remove new line characters\n",
        "        line = line.replace(\"\\\\n\", \"\")\n",
        "\n",
        "        ############################################\n",
        "        ############################################\n",
        "\n",
        "\n",
        "        if not line.strip() and cur_amr:\n",
        "            cur_amr_line = \" \".join(cur_amr)\n",
        "            all_amrs.append(cur_amr_line.strip())\n",
        "            cur_amr = []\n",
        "        elif line.startswith('# ::snt') or line.startswith('# ::tok'):\n",
        "            # Save sentences as well (don't always need them)\n",
        "            sent = re.sub('(^# ::(tok|snt))', '', line).strip() #remove # ::snt or # ::tok\n",
        "            sents.append(sent)\n",
        "        elif not line.startswith('#'):\n",
        "            cur_amr.append(line.strip())\n",
        "    # File did not end with newline, so add AMR here\n",
        "    if cur_amr:\n",
        "        all_amrs.append(\" \".join(cur_amr).strip())\n",
        "\n",
        "    # If we didn't find sentences, but we did have a sentence file, read the sentences from there (if possible)\n",
        "    if not sents and sent_file:\n",
        "        if os.path.isfile(sent_file):\n",
        "            sents = [x.strip() for x in open(sent_file, 'r')]\n",
        "            # Sanity check\n",
        "            assert len(all_amrs) == len(sents), \"{0} vs {1}\".format(len(all_amrs), len(sents))\n",
        "    return all_amrs, sents\n",
        "\n",
        "\n",
        "def delete_wiki(input_file):\n",
        "    '''Delete wiki links from AMRs'''\n",
        "    no_wiki = []\n",
        "    for line in open(input_file, 'r'):\n",
        "        n_line = re.sub(r':wiki \"(.*?)\"', '', line, 1)\n",
        "        n_line = re.sub(':wiki -', '', n_line)\n",
        "        # Merge double whitespace but keep leading whitespace\n",
        "        no_wiki.append((len(n_line) - len(n_line.lstrip())) * ' ' + ' '.join(n_line.split()))\n",
        "    return no_wiki\n",
        "\n",
        "\n",
        "def process_var_line(line, var_dict):\n",
        "    '''Function that processes line with a variable in it. Returns the string without\n",
        "       variables and the dictionary with var-name + var - value\n",
        "       Only works if AMR is shown as multiple lines and input correctly!'''\n",
        "    curr_var_name = False\n",
        "    curr_var_value = False\n",
        "    var_value = ''\n",
        "    var_name = ''\n",
        "    current_quotes = False\n",
        "    for ch in line:\n",
        "        # We start adding the variable value\n",
        "        if ch == '/' and not current_quotes:\n",
        "            curr_var_value = True\n",
        "            curr_var_name = False\n",
        "            var_value = ''\n",
        "            continue\n",
        "        # We start adding the variable name\n",
        "        elif ch == '(' and not current_quotes:\n",
        "            curr_var_name = True\n",
        "            curr_var_value = False\n",
        "            # We already found a name-value pair, add it now\n",
        "            if var_value and var_name:\n",
        "                # Remove closing brackets that were not in between quotes\n",
        "                add_value = remove_char_outside_quotes(var_value.strip(), ')')\n",
        "                # Now we have to check: if this previous item starts with ':', we remove it,\n",
        "                # because that means it started a new part ( :name (n / name ..)\n",
        "                if add_value.split()[-1].startswith(':'):\n",
        "                    add_value = \" \".join(add_value.split()[:-1])\n",
        "                var_dict[var_name.strip()] = add_value\n",
        "            var_name = ''\n",
        "            continue\n",
        "        # Check if we are currently within quotes\n",
        "        elif ch == '\"':\n",
        "            current_quotes = not current_quotes\n",
        "\n",
        "        # Add to variable name/value\n",
        "        if curr_var_name:\n",
        "            var_name += ch\n",
        "        if curr_var_value:\n",
        "            var_value += ch\n",
        "\n",
        "    # Remove brackets that were not within quotes for final var value\n",
        "    final_var = remove_char_outside_quotes(var_value, ')')\n",
        "    # Save information to dictionary\n",
        "    var_dict[var_name.strip()] = final_var\n",
        "    # Remove variable information from the AMR line\n",
        "    deleted_var_string = re.sub(r'\\([a-zA-Z-_0-9]+[\\d]? /', '(', line).replace('( ', '(')\n",
        "    return deleted_var_string, var_dict\n",
        "\n",
        "\n",
        "def delete_amr_variables(amrs):\n",
        "    '''Function that deletes variables from AMRs'''\n",
        "    full_var_dict = {}\n",
        "    del_amr = []\n",
        "\n",
        "    # First get the var dict\n",
        "    for line in amrs:\n",
        "        _, full_var_dict = process_var_line(line, full_var_dict)\n",
        "\n",
        "    # Loop over AMRs to rewrite\n",
        "    for line in amrs:\n",
        "        if line.strip() and line[0] != '#':\n",
        "            if '/' in line:\n",
        "                # Found variable here\n",
        "                # Get the deleted variable string and save\n",
        "                deleted_var_string, _ = process_var_line(line, full_var_dict)\n",
        "                del_amr.append(deleted_var_string)\n",
        "            else:\n",
        "                # Probable reference to variable here!\n",
        "                split_line = line.split()\n",
        "                ref_var = split_line[1].replace(')', '')\n",
        "\n",
        "                # Check if the variable occurs in our dictionary\n",
        "                if ref_var in full_var_dict:\n",
        "                    # Get value to replace the variable name with\n",
        "                    ref_value = full_var_dict[ref_var]\n",
        "                    # Do the replacing and add brackets for alignment\n",
        "                    split_line[1] = split_line[1].replace(ref_var, '(' + ref_value.strip() + ')')\n",
        "                    n_line = (len(line) - len(line.lstrip())) * ' ' + \" \".join(split_line)\n",
        "                    del_amr.append(n_line)\n",
        "                else:\n",
        "                    # No reference found, add line without editing (usually there are numbers in this line)\n",
        "                    del_amr.append(line)\n",
        "        else:\n",
        "            # Line with other info, just add\n",
        "            del_amr.append(line)\n",
        "    return del_amr\n",
        "\n",
        "\n",
        "# def var_free_amrs(input_file, out_ext, keep_wiki):\n",
        "#     '''Create variable-free AMRs and sentence files'''\n",
        "#     # Delete wiki link if wanted\n",
        "#     amr_no_wiki = delete_wiki(input_file) if not keep_wiki else [x.rstrip() for x in open(input_file, 'r')]\n",
        "#     # Remove all variables by duplicating coreference nodes\n",
        "#     del_amrs = delete_amr_variables(amr_no_wiki)\n",
        "#     # Put AMR on single line and write output\n",
        "#     single_amrs, _ = single_line_convert(del_amrs, '')\n",
        "#     write_to_file(single_amrs, input_file + out_ext)\n",
        "\n",
        "\n",
        "# if __name__ == \"__main__\":\n",
        "#     args = create_args_parser()\n",
        "\n",
        "#     # Do input file or find files in folder\n",
        "#     if not args.folder:\n",
        "#         var_free_amrs(args.input_file, args.output_ext, args.keep_wiki)\n",
        "#     else:\n",
        "#         for root, dirs, files in os.walk(args.input_file):\n",
        "#             for f in files:\n",
        "#                 if f.endswith(args.amr_ext):\n",
        "#                     var_free_amrs(os.path.join(root, f), args.output_ext, args.keep_wiki)\n",
        "\n",
        "#######################################\n",
        "#######################################\n",
        "# Replaces the main function in the var_free_amrs file\n",
        "#######################################\n",
        "\n",
        "def var_free_amrs(input_file, out_ext='.tf', keep_wiki=False):\n",
        "    '''Create variable-free AMRs and sentence files'''    \n",
        "    # Delete wiki link if wanted\n",
        "    amr_no_wiki = delete_wiki(input_file) if not keep_wiki else [x.rstrip() for x in open(input_file, 'r')]\n",
        "    # Remove all variables by duplicating coreference nodes\n",
        "    del_amrs = delete_amr_variables(amr_no_wiki)\n",
        "    # Put AMR on single line and write output\n",
        "    single_amrs, _ = single_line_convert(del_amrs, '')\n",
        "\n",
        "\n",
        "    # Concatenate source amrs into one\n",
        "    fused_amrs = []\n",
        "\n",
        "    # split amr entries string into individual amr entries\n",
        "    amr_pairs = re.findall(\"\\{.*?\\}\", single_amrs[0])\n",
        "    # amr_pairs = [\"{\" + amr_pair + \"}\" for amr_pair in amr_pairs]\n",
        "\n",
        "    # concate the source amrs\n",
        "    for amr_pair in amr_pairs:\n",
        "        json_entries = json.loads(amr_pair)\n",
        "        fused_entries = {}\n",
        "        fused_entries[\"source_amrs\"] = \" \".join(json_entries[\"source_amrs\"])\n",
        "        fused_entries[\"output_amr\"] = json_entries[\"output_amr\"]\n",
        "        fused_amrs.append(json.dumps(fused_entries))\n",
        "\n",
        "\n",
        "    write_to_file(fused_amrs, input_file + out_ext)\n",
        "\n",
        "#######################################\n",
        "#######################################\n"
      ],
      "execution_count": null,
      "outputs": []
    },
    {
      "cell_type": "code",
      "metadata": {
        "colab": {
          "base_uri": "https://localhost:8080/"
        },
        "id": "CEZ2WQsTivJd",
        "outputId": "d695f2eb-f68a-4a4d-812c-8581d2d2db55"
      },
      "source": [
        "!ls"
      ],
      "execution_count": null,
      "outputs": [
        {
          "output_type": "stream",
          "text": [
            "amr_utils.py\t\t  __pycache__\t\t      sample_input\n",
            "best_amr_permutation.py   README.md\t\t      smatch\n",
            "char_level_AMR.py\t  reformat_single_amrs.py     test_pipeline.sh\n",
            "create_coref_indexing.py  requirements.txt\t      var_free_amrs.py\n",
            "create_coref_paths.py\t  restoreAMR\t\t      wikify_file.py\n",
            "postprocess_AMRs.py\t  restore_duplicate_coref.py\n",
            "prune_amrs.py\t\t  sample_alignment_input\n"
          ],
          "name": "stdout"
        }
      ]
    },
    {
      "cell_type": "code",
      "metadata": {
        "id": "tLdZC5JLOkh7",
        "colab": {
          "base_uri": "https://localhost:8080/"
        },
        "outputId": "50167284-da6d-4415-b122-2eea9536e6d9"
      },
      "source": [
        "!head -3 /content/test_web/webnlg_dev_parsed.jsonl > /content/test_web/test.jsonl\n",
        "!cat /content/test_web/test.jsonl"
      ],
      "execution_count": null,
      "outputs": [
        {
          "output_type": "stream",
          "text": [
            "{\"source_amrs\": [\"(o0 / organization\\n      :location (c0 / country\\n            :name (n1 / name\\n                  :op1 \\\"Switzerland\\\" ))\\n      :name (n0 / name\\n            :op5 \\\"Mendrisio\\\" \\n            :op4 \\\"di\\\" \\n            :op3 \\\"Architettura\\\" \\n            :op2 \\\"di\\\" \\n            :op1 \\\"Accademia\\\" ))\", \"(n0 / number\\n      :poss (o0 / organization\\n            :name (n1 / name\\n                  :op5 \\\"Mendrisio\\\" \\n                  :op4 \\\"di\\\" \\n                  :op3 \\\"Architettura\\\" \\n                  :op2 \\\"di\\\" \\n                  :op1 \\\"Accademia\\\" ))\\n      :quant-of (p0 / person\\n            :quant 600 \\n            :ARG0-of (s0 / study-01)))\", \"(e0 / establish-01\\n      :ARG0 (p0 / publication\\n            :name (n0 / name\\n                  :op5 \\\"Mendrisio\\\" \\n                  :op4 \\\"di\\\" \\n                  :op3 \\\"Architettura\\\" \\n                  :op2 \\\"di\\\" \\n                  :op1 \\\"Accademia\\\" ))\\n      :ARG1 (d0 / date-entity\\n            :year 1996 ))\", \"(p0 / person\\n      :name (n0 / name\\n            :op3 \\\"Ammann\\\" \\n            :op2 \\\"Schneider\\\" \\n            :op1 \\\"Johann\\\" )\\n      :ARG0-of (l0 / lead-02\\n            :ARG1 (c0 / country\\n                  :name (n1 / name\\n                        :op1 \\\"Switzerland\\\" ))))\", \"(p0 / publication\\n      :location (c0 / city\\n            :name (n1 / name\\n                  :op1 \\\"Ticino\\\" ))\\n      :name (n0 / name\\n            :op5 \\\"Mendrisio\\\" \\n            :op4 \\\"di\\\" \\n            :op3 \\\"Architettura\\\" \\n            :op2 \\\"di\\\" \\n            :op1 \\\"Accademia\\\" ))\", \"(t0 / title\\n      :poss (c0 / country\\n            :name (n0 / name\\n                  :op1 \\\"Switzerland\\\" ))\\n      :mod (l0 / lead-02\\n            :ARG0 (p0 / person\\n                  :ARG0-of (h0 / have-org-role-91\\n                        :ARG2 (c1 / chancellor\\n                              :mod (f0 / federal))))))\"], \"output_amr\": \"(m0 / multi-sentence\\n      :snt2 (h0 / have-03\\n            :ARG0 (i0 / it)\\n            :ARG1 (p1 / person\\n                  :ARG0-of (s0 / study-01)\\n                  :quant 600 \\n                  :quant (h1 / have-org-role-91\\n                        :ARG1 (c3 / country\\n                              :name (n3 / name\\n                                    :op1 \\\"Switzerland\\\" ))\\n                        :ARG2 (c2 / chancellor\\n                              :mod (f0 / federal)))))\\n      :snt1 (e0 / establish-01\\n            :location (c0 / city\\n                  :location (c1 / country\\n                        :name (n2 / name\\n                              :op1 \\\"Switzerland\\\" ))\\n                  :name (n1 / name\\n                        :op1 \\\"Ticino\\\" ))\\n            :time (d0 / date-entity\\n                  :year 1996 )\\n            :ARG1 (p0 / publication\\n                  :name (n0 / name\\n                        :op6 \\\"Mendrisio\\\" \\n                        :op4 \\\"di\\\" \\n                        :op3 \\\"Architettura\\\" \\n                        :op2 \\\"di\\\" \\n                        :op1 \\\"Accademia\\\" ))))\"}\n",
            "{\"source_amrs\": [\"(a0 / affiliate-01\\n      :ARG1 (r0 / research-institute\\n            :name (n1 / name\\n                  :op4 \\\"Technology\\\" \\n                  :op3 \\\"of\\\" \\n                  :op2 \\\"Institute\\\" \\n                  :op1 \\\"Acharya\\\" ))\\n      :ARG0 (c0 / city\\n            :name (n0 / name\\n                  :op1 \\\"Bangalore\\\" )))\", \"(d0 / direct-01\\n      :ARG0 (d1 / doctor\\n            :name (n1 / name\\n                  :op3 \\\"Prabhukumar\\\" \\n                  :op2 \\\"G.\\\" \\n                  :op1 \\\"Dr.\\\" ))\\n      :ARG1 (r0 / research-institute\\n            :name (n0 / name\\n                  :op4 \\\"Technology\\\" \\n                  :op3 \\\"of\\\" \\n                  :op2 \\\"Institute\\\" \\n                  :op1 \\\"Acharya\\\" )))\", \"(e0 / establish-01\\n      :time (d0 / date-entity\\n            :year 2000 )\\n      :ARG1 (r0 / research-institute\\n            :name (n0 / name\\n                  :op4 \\\"Technology\\\" \\n                  :op3 \\\"of\\\" \\n                  :op2 \\\"Institute\\\" \\n                  :op1 \\\"Acharya\\\" )))\", \"(o0 / organization\\n      :location (c0 / country\\n            :name (n1 / name\\n                  :op1 \\\"India\\\" ))\\n      :name (n0 / name\\n            :op4 \\\"Technology\\\" \\n            :op3 \\\"of\\\" \\n            :op2 \\\"Institute\\\" \\n            :op1 \\\"Acharya\\\" ))\", \"(r0 / research-institute\\n      :location (s0 / state\\n            :name (n1 / name\\n                  :op1 \\\"Karnataka\\\" ))\\n      :name (n0 / name\\n            :op4 \\\"Technology\\\" \\n            :op3 \\\"of\\\" \\n            :op2 \\\"Institute\\\" \\n            :op1 \\\"Acharya\\\" ))\", \"(c0 / campus\\n      :location (c1 / city\\n            :name (n1 / name\\n                  :op1 \\\"Bangalore\\\" ))\\n      :location (s1 / street-address-91\\n            :ARG2 (p0 / person\\n                  :name (n4 / name\\n                        :op3 \\\"Road\\\" \\n                        :op2 \\\"Radhakrishnan\\\" \\n                        :op1 \\\"Acharya\\\" )))\\n      :location (s0 / street-address-91\\n            :ARG2 (r0 / road\\n                  :name (n3 / name\\n                        :op3 \\\"Road\\\" \\n                        :op2 \\\"Main\\\" \\n                        :op1 \\\"Hessarghatta\\\" ))\\n            :ARG1 560090 \\n            :ARG4 (c2 / city\\n                  :name (n2 / name\\n                        :op1 \\\"Bangalore\\\" )))\\n      :location (f0 / facility\\n            :name (n0 / name\\n                  :op3 \\\"Technology\\\" \\n                  :op3 \\\"of\\\" \\n                  :op2 \\\"Institute\\\" \\n                  :op1 \\\"Acharya\\\" )))\"], \"output_amr\": \"(m0 / multi-sentence\\n      :snt2 (a1 / address\\n            :domain (s0 / school)\\n            :location (r0 / road\\n                  :location (s1 / street-address-91\\n                        :ARG4 (c1 / city\\n                              :name (n7 / name\\n                                    :op1 \\\"Karnataka\\\" ))\\n                        :ARG2 (r2 / road\\n                              :name (n6 / name\\n                                    :op3 \\\"Road\\\" \\n                                    :op2 \\\"Main\\\" \\n                                    :op1 \\\"Hessarghatta\\\" )))\\n                  :name (n0 / name\\n                        :op4 \\\"Technology\\\" \\n                        :op3 \\\"of\\\" \\n                        :op2 \\\"Institute\\\" \\n                        :op1 \\\"Acharya\\\" ))\\n            :mod (f0 / full))\\n      :snt1 (a0 / and\\n            :op2 (h0 / have-org-role-91\\n                  :ARG2 (d1 / director)\\n                  :ARG0 (p0 / person\\n                        :name (n4 / name\\n                              :op2 \\\"Radhakrishnan\\\" \\n                              :op1 \\\"Acharya\\\" )))\\n            :op1 (e0 / establish-01\\n                  :time (d0 / date-entity\\n                        :year 2000 )\\n                  :time (r1 / research-institute\\n                        :name (n3 / name\\n                              :op3 \\\"Road\\\" \\n                              :op2 \\\"Sarvapalli\\\" \\n                              :op1 \\\"Dr.\\\" ))\\n                  :time (c0 / city\\n                        :name (n2 / name\\n                              :op3 \\\"Prabhukumar\\\" \\n                              :op2 \\\"G.\\\" \\n                              :op1 \\\"Dr.\\\" )\\n                        :location (s2 / state\\n                              :name (n5 / name\\n                                    :op1 \\\"India\\\" ))\\n                        :name (n1 / name\\n                              :op1 \\\"Bangalore\\\" )))))\"}\n",
            "{\"source_amrs\": [\"(p0 / preside-01\\n      :ARG1 (p1 / person\\n            :name (n1 / name\\n                  :op2 \\\"Reddy\\\" \\n                  :op1 \\\"B.M.\\\" ))\\n      :ARG0 (r0 / research-institute\\n            :name (n0 / name\\n                  :op4 \\\"Technology\\\" \\n                  :op3 \\\"of\\\" \\n                  :op2 \\\"Institute\\\" \\n                  :op1 \\\"Acharya\\\" )))\", \"(a0 / affiliate-01\\n      :ARG1 (r0 / research-institute\\n            :name (n1 / name\\n                  :op4 \\\"Technology\\\" \\n                  :op3 \\\"of\\\" \\n                  :op2 \\\"Institute\\\" \\n                  :op1 \\\"Acharya\\\" ))\\n      :ARG0 (c0 / city\\n            :name (n0 / name\\n                  :op1 \\\"Bangalore\\\" )))\", \"(d0 / direct-01\\n      :ARG0 (d1 / doctor\\n            :name (n1 / name\\n                  :op3 \\\"Prabhukumar\\\" \\n                  :op2 \\\"G.\\\" \\n                  :op1 \\\"Dr.\\\" ))\\n      :ARG1 (r0 / research-institute\\n            :name (n0 / name\\n                  :op4 \\\"Technology\\\" \\n                  :op3 \\\"of\\\" \\n                  :op2 \\\"Institute\\\" \\n                  :op1 \\\"Acharya\\\" )))\", \"(e0 / establish-01\\n      :time (d0 / date-entity\\n            :year 2000 )\\n      :ARG1 (r0 / research-institute\\n            :name (n0 / name\\n                  :op4 \\\"Technology\\\" \\n                  :op3 \\\"of\\\" \\n                  :op2 \\\"Institute\\\" \\n                  :op1 \\\"Acharya\\\" )))\", \"(o0 / organization\\n      :location (c0 / country\\n            :name (n1 / name\\n                  :op1 \\\"India\\\" ))\\n      :name (n0 / name\\n            :op4 \\\"Technology\\\" \\n            :op3 \\\"of\\\" \\n            :op2 \\\"Institute\\\" \\n            :op1 \\\"Acharya\\\" ))\", \"(r0 / research-institute\\n      :location (u0 / university\\n            :name (n1 / name\\n                  :op4 \\\"University\\\" \\n                  :op2 \\\"Technological\\\" \\n                  :op1 \\\"Visvesvaraya\\\" ))\\n      :name (n0 / name\\n            :op4 \\\"Technology\\\" \\n            :op3 \\\"of\\\" \\n            :op2 \\\"Institute\\\" \\n            :op1 \\\"Acharya\\\" ))\"], \"output_amr\": \"(m0 / multi-sentence\\n      :snt2 (a0 / and\\n            :op2 (h0 / have-org-role-91\\n                  :ARG2 (d1 / directore)\\n                  :ARG0 (p1 / person\\n                        :name (n2 / name\\n                              :op2 \\\"Reddy\\\" \\n                              :op1 \\\"B.M.\\\" ))\\n                  :ARG1 i0)\\n            :op1 (p0 / president\\n                  :poss (i0 / it)))\\n      :snt1 (e0 / establish-01\\n            :time (d0 / date-entity\\n                  :year 2000 )\\n            :ARG1 (r0 / research-institute\\n                  :location (c0 / city\\n                        :location (c1 / country\\n                              :name (n4 / name\\n                                    :op1 \\\"India\\\" ))\\n                        :name (n1 / name\\n                              :op1 \\\"Bangalore\\\" ))\\n                  :name (n0 / name\\n                        :op4 \\\"Technology\\\" \\n                        :op3 \\\"of\\\" \\n                        :op2 \\\"Institute\\\" \\n                        :op1 \\\"Acharya\\\" )\\n                  :location (a1 / affiliate-01\\n                        :ARG2 (u0 / university\\n                              :name (n3 / name\\n                                    :op1 \\\"Bangalore\\\" \\n                                    :op3 \\\"University\\\" \\n                                    :op2 \\\"Technological\\\" \\n                                    :op1 \\\"Visvesvaraya\\\" ))))))\"}\n"
          ],
          "name": "stdout"
        }
      ]
    },
    {
      "cell_type": "code",
      "metadata": {
        "id": "kRZz3iPJzzs0",
        "colab": {
          "base_uri": "https://localhost:8080/"
        },
        "outputId": "74254834-95c9-4468-a152-42e9b3e6f473"
      },
      "source": [
        "# Put the above AMRs in the /content/test.txt\n",
        "# Remember to add a new line between each AMR\n",
        "\n",
        "# !python var_free_amrs.py -f /content/test_web/test.jsonl\n",
        "# !python var_free_amrs.py -f /content/test_web/webnlg_dev_parsed.jsonl\n",
        "# !python var_free_amrs.py -f /content/test_web/webnlg_test_parsed.jsonl\n",
        "# !python var_free_amrs.py -f /content/test_web/webnlg_train_parsed.jsonl\n",
        "\n",
        "var_free_amrs('/content/test_web/test.jsonl')\n",
        "var_free_amrs('/content/test_web/webnlg_dev_parsed.jsonl')\n",
        "var_free_amrs('/content/test_web/webnlg_test_parsed.jsonl')\n",
        "var_free_amrs('/content/test_web/webnlg_train_parsed.jsonl')\n",
        "\n",
        "f = open('/content/test_web/webnlg_dev_parsed.jsonl', 'r')\n",
        "file_contents = f.read()\n",
        "print(file_contents[:500])\n",
        "f.close()\n",
        "f = open('/content/test_web/webnlg_dev_parsed.jsonl.tf', 'r')\n",
        "file_contents = f.read()\n",
        "print(file_contents[:500])\n",
        "f.close()\n",
        "f = open('/content/test_web/test.jsonl.tf', 'r')\n",
        "file_contents = f.read()\n",
        "print(file_contents[:500])\n",
        "f.close()"
      ],
      "execution_count": null,
      "outputs": [
        {
          "output_type": "stream",
          "text": [
            "{\"source_amrs\": [\"(o0 / organization\\n      :location (c0 / country\\n            :name (n1 / name\\n                  :op1 \\\"Switzerland\\\" ))\\n      :name (n0 / name\\n            :op5 \\\"Mendrisio\\\" \\n            :op4 \\\"di\\\" \\n            :op3 \\\"Architettura\\\" \\n            :op2 \\\"di\\\" \\n            :op1 \\\"Accademia\\\" ))\", \"(n0 / number\\n      :poss (o0 / organization\\n            :name (n1 / name\\n                  :op5 \\\"Mendrisio\\\" \\n                  :op4 \\\"di\\\" \\n                  :op3 \\\"Arch\n",
            "{\"source_amrs\": \"(organization :location (country :name (name :op1 \\\"Switzerland\\\" )) :name (name :op5 \\\"Mendrisio\\\"  :op4 \\\"di\\\"  :op3 \\\"Architettura\\\"  :op2 \\\"di\\\"  :op1 \\\"Accademia\\\" )) (number :poss (organization :name (name :op5 \\\"Mendrisio\\\"  :op4 \\\"di\\\"  :op3 \\\"Architettura\\\"  :op2 \\\"di\\\"  :op1 \\\"Accademia\\\" )) :quant-of (person :quant 600  :ARG0-of (study-01))) (establish-01 :ARG0 (publication :name (name :op5 \\\"Mendrisio\\\"  :op4 \\\"di\\\"  :op3 \\\"Architettura\\\"  :op2 \\\"di\\\"  :op1 \\\"Accadem\n",
            "{\"source_amrs\": \"(organization :location (country :name (name :op1 \\\"Switzerland\\\" )) :name (name :op5 \\\"Mendrisio\\\"  :op4 \\\"di\\\"  :op3 \\\"Architettura\\\"  :op2 \\\"di\\\"  :op1 \\\"Accademia\\\" )) (number :poss (organization :name (name :op5 \\\"Mendrisio\\\"  :op4 \\\"di\\\"  :op3 \\\"Architettura\\\"  :op2 \\\"di\\\"  :op1 \\\"Accademia\\\" )) :quant-of (person :quant 600  :ARG0-of (study-01))) (establish-01 :ARG0 (publication :name (name :op5 \\\"Mendrisio\\\"  :op4 \\\"di\\\"  :op3 \\\"Architettura\\\"  :op2 \\\"di\\\"  :op1 \\\"Accadem\n"
          ],
          "name": "stdout"
        }
      ]
    },
    {
      "cell_type": "code",
      "metadata": {
        "colab": {
          "base_uri": "https://localhost:8080/"
        },
        "id": "VAVfLP5e6h4r",
        "outputId": "1ada46c0-8fb0-4130-fc59-f37748f095f1"
      },
      "source": [
        "import json\n",
        "\n",
        "with open('/content/test_web/test.jsonl', 'r') as json_file:\n",
        "    json_list = list(json_file)\n",
        "\n",
        "for json_str in json_list:\n",
        "    result = json.loads(json_str)\n",
        "    print(f\"result: {result}\")\n",
        "\n",
        "\n",
        "with open('/content/test_web/test.jsonl.tf', 'r') as json_file:\n",
        "    json_list = list(json_file)\n",
        "\n",
        "for json_str in json_list:\n",
        "    result = json.loads(json_str)\n",
        "    print(f\"result: {result}\")"
      ],
      "execution_count": null,
      "outputs": [
        {
          "output_type": "stream",
          "text": [
            "result: {'source_amrs': ['(o0 / organization\\n      :location (c0 / country\\n            :name (n1 / name\\n                  :op1 \"Switzerland\" ))\\n      :name (n0 / name\\n            :op5 \"Mendrisio\" \\n            :op4 \"di\" \\n            :op3 \"Architettura\" \\n            :op2 \"di\" \\n            :op1 \"Accademia\" ))', '(n0 / number\\n      :poss (o0 / organization\\n            :name (n1 / name\\n                  :op5 \"Mendrisio\" \\n                  :op4 \"di\" \\n                  :op3 \"Architettura\" \\n                  :op2 \"di\" \\n                  :op1 \"Accademia\" ))\\n      :quant-of (p0 / person\\n            :quant 600 \\n            :ARG0-of (s0 / study-01)))', '(e0 / establish-01\\n      :ARG0 (p0 / publication\\n            :name (n0 / name\\n                  :op5 \"Mendrisio\" \\n                  :op4 \"di\" \\n                  :op3 \"Architettura\" \\n                  :op2 \"di\" \\n                  :op1 \"Accademia\" ))\\n      :ARG1 (d0 / date-entity\\n            :year 1996 ))', '(p0 / person\\n      :name (n0 / name\\n            :op3 \"Ammann\" \\n            :op2 \"Schneider\" \\n            :op1 \"Johann\" )\\n      :ARG0-of (l0 / lead-02\\n            :ARG1 (c0 / country\\n                  :name (n1 / name\\n                        :op1 \"Switzerland\" ))))', '(p0 / publication\\n      :location (c0 / city\\n            :name (n1 / name\\n                  :op1 \"Ticino\" ))\\n      :name (n0 / name\\n            :op5 \"Mendrisio\" \\n            :op4 \"di\" \\n            :op3 \"Architettura\" \\n            :op2 \"di\" \\n            :op1 \"Accademia\" ))', '(t0 / title\\n      :poss (c0 / country\\n            :name (n0 / name\\n                  :op1 \"Switzerland\" ))\\n      :mod (l0 / lead-02\\n            :ARG0 (p0 / person\\n                  :ARG0-of (h0 / have-org-role-91\\n                        :ARG2 (c1 / chancellor\\n                              :mod (f0 / federal))))))'], 'output_amr': '(m0 / multi-sentence\\n      :snt2 (h0 / have-03\\n            :ARG0 (i0 / it)\\n            :ARG1 (p1 / person\\n                  :ARG0-of (s0 / study-01)\\n                  :quant 600 \\n                  :quant (h1 / have-org-role-91\\n                        :ARG1 (c3 / country\\n                              :name (n3 / name\\n                                    :op1 \"Switzerland\" ))\\n                        :ARG2 (c2 / chancellor\\n                              :mod (f0 / federal)))))\\n      :snt1 (e0 / establish-01\\n            :location (c0 / city\\n                  :location (c1 / country\\n                        :name (n2 / name\\n                              :op1 \"Switzerland\" ))\\n                  :name (n1 / name\\n                        :op1 \"Ticino\" ))\\n            :time (d0 / date-entity\\n                  :year 1996 )\\n            :ARG1 (p0 / publication\\n                  :name (n0 / name\\n                        :op6 \"Mendrisio\" \\n                        :op4 \"di\" \\n                        :op3 \"Architettura\" \\n                        :op2 \"di\" \\n                        :op1 \"Accademia\" ))))'}\n",
            "result: {'source_amrs': ['(a0 / affiliate-01\\n      :ARG1 (r0 / research-institute\\n            :name (n1 / name\\n                  :op4 \"Technology\" \\n                  :op3 \"of\" \\n                  :op2 \"Institute\" \\n                  :op1 \"Acharya\" ))\\n      :ARG0 (c0 / city\\n            :name (n0 / name\\n                  :op1 \"Bangalore\" )))', '(d0 / direct-01\\n      :ARG0 (d1 / doctor\\n            :name (n1 / name\\n                  :op3 \"Prabhukumar\" \\n                  :op2 \"G.\" \\n                  :op1 \"Dr.\" ))\\n      :ARG1 (r0 / research-institute\\n            :name (n0 / name\\n                  :op4 \"Technology\" \\n                  :op3 \"of\" \\n                  :op2 \"Institute\" \\n                  :op1 \"Acharya\" )))', '(e0 / establish-01\\n      :time (d0 / date-entity\\n            :year 2000 )\\n      :ARG1 (r0 / research-institute\\n            :name (n0 / name\\n                  :op4 \"Technology\" \\n                  :op3 \"of\" \\n                  :op2 \"Institute\" \\n                  :op1 \"Acharya\" )))', '(o0 / organization\\n      :location (c0 / country\\n            :name (n1 / name\\n                  :op1 \"India\" ))\\n      :name (n0 / name\\n            :op4 \"Technology\" \\n            :op3 \"of\" \\n            :op2 \"Institute\" \\n            :op1 \"Acharya\" ))', '(r0 / research-institute\\n      :location (s0 / state\\n            :name (n1 / name\\n                  :op1 \"Karnataka\" ))\\n      :name (n0 / name\\n            :op4 \"Technology\" \\n            :op3 \"of\" \\n            :op2 \"Institute\" \\n            :op1 \"Acharya\" ))', '(c0 / campus\\n      :location (c1 / city\\n            :name (n1 / name\\n                  :op1 \"Bangalore\" ))\\n      :location (s1 / street-address-91\\n            :ARG2 (p0 / person\\n                  :name (n4 / name\\n                        :op3 \"Road\" \\n                        :op2 \"Radhakrishnan\" \\n                        :op1 \"Acharya\" )))\\n      :location (s0 / street-address-91\\n            :ARG2 (r0 / road\\n                  :name (n3 / name\\n                        :op3 \"Road\" \\n                        :op2 \"Main\" \\n                        :op1 \"Hessarghatta\" ))\\n            :ARG1 560090 \\n            :ARG4 (c2 / city\\n                  :name (n2 / name\\n                        :op1 \"Bangalore\" )))\\n      :location (f0 / facility\\n            :name (n0 / name\\n                  :op3 \"Technology\" \\n                  :op3 \"of\" \\n                  :op2 \"Institute\" \\n                  :op1 \"Acharya\" )))'], 'output_amr': '(m0 / multi-sentence\\n      :snt2 (a1 / address\\n            :domain (s0 / school)\\n            :location (r0 / road\\n                  :location (s1 / street-address-91\\n                        :ARG4 (c1 / city\\n                              :name (n7 / name\\n                                    :op1 \"Karnataka\" ))\\n                        :ARG2 (r2 / road\\n                              :name (n6 / name\\n                                    :op3 \"Road\" \\n                                    :op2 \"Main\" \\n                                    :op1 \"Hessarghatta\" )))\\n                  :name (n0 / name\\n                        :op4 \"Technology\" \\n                        :op3 \"of\" \\n                        :op2 \"Institute\" \\n                        :op1 \"Acharya\" ))\\n            :mod (f0 / full))\\n      :snt1 (a0 / and\\n            :op2 (h0 / have-org-role-91\\n                  :ARG2 (d1 / director)\\n                  :ARG0 (p0 / person\\n                        :name (n4 / name\\n                              :op2 \"Radhakrishnan\" \\n                              :op1 \"Acharya\" )))\\n            :op1 (e0 / establish-01\\n                  :time (d0 / date-entity\\n                        :year 2000 )\\n                  :time (r1 / research-institute\\n                        :name (n3 / name\\n                              :op3 \"Road\" \\n                              :op2 \"Sarvapalli\" \\n                              :op1 \"Dr.\" ))\\n                  :time (c0 / city\\n                        :name (n2 / name\\n                              :op3 \"Prabhukumar\" \\n                              :op2 \"G.\" \\n                              :op1 \"Dr.\" )\\n                        :location (s2 / state\\n                              :name (n5 / name\\n                                    :op1 \"India\" ))\\n                        :name (n1 / name\\n                              :op1 \"Bangalore\" )))))'}\n",
            "result: {'source_amrs': ['(p0 / preside-01\\n      :ARG1 (p1 / person\\n            :name (n1 / name\\n                  :op2 \"Reddy\" \\n                  :op1 \"B.M.\" ))\\n      :ARG0 (r0 / research-institute\\n            :name (n0 / name\\n                  :op4 \"Technology\" \\n                  :op3 \"of\" \\n                  :op2 \"Institute\" \\n                  :op1 \"Acharya\" )))', '(a0 / affiliate-01\\n      :ARG1 (r0 / research-institute\\n            :name (n1 / name\\n                  :op4 \"Technology\" \\n                  :op3 \"of\" \\n                  :op2 \"Institute\" \\n                  :op1 \"Acharya\" ))\\n      :ARG0 (c0 / city\\n            :name (n0 / name\\n                  :op1 \"Bangalore\" )))', '(d0 / direct-01\\n      :ARG0 (d1 / doctor\\n            :name (n1 / name\\n                  :op3 \"Prabhukumar\" \\n                  :op2 \"G.\" \\n                  :op1 \"Dr.\" ))\\n      :ARG1 (r0 / research-institute\\n            :name (n0 / name\\n                  :op4 \"Technology\" \\n                  :op3 \"of\" \\n                  :op2 \"Institute\" \\n                  :op1 \"Acharya\" )))', '(e0 / establish-01\\n      :time (d0 / date-entity\\n            :year 2000 )\\n      :ARG1 (r0 / research-institute\\n            :name (n0 / name\\n                  :op4 \"Technology\" \\n                  :op3 \"of\" \\n                  :op2 \"Institute\" \\n                  :op1 \"Acharya\" )))', '(o0 / organization\\n      :location (c0 / country\\n            :name (n1 / name\\n                  :op1 \"India\" ))\\n      :name (n0 / name\\n            :op4 \"Technology\" \\n            :op3 \"of\" \\n            :op2 \"Institute\" \\n            :op1 \"Acharya\" ))', '(r0 / research-institute\\n      :location (u0 / university\\n            :name (n1 / name\\n                  :op4 \"University\" \\n                  :op2 \"Technological\" \\n                  :op1 \"Visvesvaraya\" ))\\n      :name (n0 / name\\n            :op4 \"Technology\" \\n            :op3 \"of\" \\n            :op2 \"Institute\" \\n            :op1 \"Acharya\" ))'], 'output_amr': '(m0 / multi-sentence\\n      :snt2 (a0 / and\\n            :op2 (h0 / have-org-role-91\\n                  :ARG2 (d1 / directore)\\n                  :ARG0 (p1 / person\\n                        :name (n2 / name\\n                              :op2 \"Reddy\" \\n                              :op1 \"B.M.\" ))\\n                  :ARG1 i0)\\n            :op1 (p0 / president\\n                  :poss (i0 / it)))\\n      :snt1 (e0 / establish-01\\n            :time (d0 / date-entity\\n                  :year 2000 )\\n            :ARG1 (r0 / research-institute\\n                  :location (c0 / city\\n                        :location (c1 / country\\n                              :name (n4 / name\\n                                    :op1 \"India\" ))\\n                        :name (n1 / name\\n                              :op1 \"Bangalore\" ))\\n                  :name (n0 / name\\n                        :op4 \"Technology\" \\n                        :op3 \"of\" \\n                        :op2 \"Institute\" \\n                        :op1 \"Acharya\" )\\n                  :location (a1 / affiliate-01\\n                        :ARG2 (u0 / university\\n                              :name (n3 / name\\n                                    :op1 \"Bangalore\" \\n                                    :op3 \"University\" \\n                                    :op2 \"Technological\" \\n                                    :op1 \"Visvesvaraya\" ))))))'}\n",
            "result: {'source_amrs': '(organization :location (country :name (name :op1 \"Switzerland\" )) :name (name :op5 \"Mendrisio\"  :op4 \"di\"  :op3 \"Architettura\"  :op2 \"di\"  :op1 \"Accademia\" )) (number :poss (organization :name (name :op5 \"Mendrisio\"  :op4 \"di\"  :op3 \"Architettura\"  :op2 \"di\"  :op1 \"Accademia\" )) :quant-of (person :quant 600  :ARG0-of (study-01))) (establish-01 :ARG0 (publication :name (name :op5 \"Mendrisio\"  :op4 \"di\"  :op3 \"Architettura\"  :op2 \"di\"  :op1 \"Accademia\" )) :ARG1 (date-entity :year 1996 )) (person :name (name :op3 \"Ammann\"  :op2 \"Schneider\"  :op1 \"Johann\" ) :ARG0-of (lead-02 :ARG1 (country :name (name :op1 \"Switzerland\" )))) (publication :location (city :name (name :op1 \"Ticino\" )) :name (name :op5 \"Mendrisio\"  :op4 \"di\"  :op3 \"Architettura\"  :op2 \"di\"  :op1 \"Accademia\" )) (title :poss (country :name (name :op1 \"Switzerland\" )) :mod (lead-02 :ARG0 (person :ARG0-of (have-org-role-91 :ARG2 (chancellor :mod (federal))))))', 'output_amr': '(multi-sentence :snt2 (have-03 :ARG0 (it) :ARG1 (person :ARG0-of (study-01) :quant 600  :quant (have-org-role-91 :ARG1 (country :name (name :op1 \"Switzerland\" )) :ARG2 (chancellor :mod (federal))))) :snt1 (establish-01 :location (city :location (country :name (name :op1 \"Switzerland\" )) :name (name :op1 \"Ticino\" )) :time (date-entity :year 1996 ) :ARG1 (publication :name (name :op6 \"Mendrisio\"  :op4 \"di\"  :op3 \"Architettura\"  :op2 \"di\"  :op1 \"Accademia\" ))))'}\n",
            "result: {'source_amrs': '(affiliate-01 :ARG1 (research-institute :name (name :op4 \"Technology\"  :op3 \"of\"  :op2 \"Institute\"  :op1 \"Acharya\" )) :ARG0 (city :name (name :op1 \"Bangalore\" ))) (direct-01 :ARG0 (doctor :name (name :op3 \"Prabhukumar\"  :op2 \"G.\"  :op1 \"Dr.\" )) :ARG1 (research-institute :name (name :op4 \"Technology\"  :op3 \"of\"  :op2 \"Institute\"  :op1 \"Acharya\" ))) (establish-01 :time (date-entity :year 2000 ) :ARG1 (research-institute :name (name :op4 \"Technology\"  :op3 \"of\"  :op2 \"Institute\"  :op1 \"Acharya\" ))) (organization :location (country :name (name :op1 \"India\" )) :name (name :op4 \"Technology\"  :op3 \"of\"  :op2 \"Institute\"  :op1 \"Acharya\" )) (research-institute :location (state :name (name :op1 \"Karnataka\" )) :name (name :op4 \"Technology\"  :op3 \"of\"  :op2 \"Institute\"  :op1 \"Acharya\" )) (campus :location (city :name (name :op1 \"Bangalore\" )) :location (street-address-91 :ARG2 (person :name (name :op3 \"Road\"  :op2 \"Radhakrishnan\"  :op1 \"Acharya\" ))) :location (street-address-91 :ARG2 (road :name (name :op3 \"Road\"  :op2 \"Main\"  :op1 \"Hessarghatta\" )) :ARG1 560090  :ARG4 (city :name (name :op1 \"Bangalore\" ))) :location (facility :name (name :op3 \"Technology\"  :op3 \"of\"  :op2 \"Institute\"  :op1 \"Acharya\" )))', 'output_amr': '(multi-sentence :snt2 (address :domain (school) :location (road :location (street-address-91 :ARG4 (city :name (name :op1 \"Karnataka\" )) :ARG2 (road :name (name :op3 \"Road\"  :op2 \"Main\"  :op1 \"Hessarghatta\" ))) :name (name :op4 \"Technology\"  :op3 \"of\"  :op2 \"Institute\"  :op1 \"Acharya\" )) :mod (full)) :snt1 (and :op2 (have-org-role-91 :ARG2 (director) :ARG0 (person :name (name :op2 \"Radhakrishnan\"  :op1 \"Acharya\" ))) :op1 (establish-01 :time (date-entity :year 2000 ) :time (research-institute :name (name :op3 \"Road\"  :op2 \"Sarvapalli\"  :op1 \"Dr.\" )) :time (city :name (name :op3 \"Prabhukumar\"  :op2 \"G.\"  :op1 \"Dr.\" ) :location (state :name (name :op1 \"India\" )) :name (name :op1 \"Bangalore\" )))))'}\n",
            "result: {'source_amrs': '(preside-01 :ARG1 (person :name (name :op2 \"Reddy\"  :op1 \"B.M.\" )) :ARG0 (research-institute :name (name :op4 \"Technology\"  :op3 \"of\"  :op2 \"Institute\"  :op1 \"Acharya\" ))) (affiliate-01 :ARG1 (research-institute :name (name :op4 \"Technology\"  :op3 \"of\"  :op2 \"Institute\"  :op1 \"Acharya\" )) :ARG0 (city :name (name :op1 \"Bangalore\" ))) (direct-01 :ARG0 (doctor :name (name :op3 \"Prabhukumar\"  :op2 \"G.\"  :op1 \"Dr.\" )) :ARG1 (research-institute :name (name :op4 \"Technology\"  :op3 \"of\"  :op2 \"Institute\"  :op1 \"Acharya\" ))) (establish-01 :time (date-entity :year 2000 ) :ARG1 (research-institute :name (name :op4 \"Technology\"  :op3 \"of\"  :op2 \"Institute\"  :op1 \"Acharya\" ))) (organization :location (country :name (name :op1 \"India\" )) :name (name :op4 \"Technology\"  :op3 \"of\"  :op2 \"Institute\"  :op1 \"Acharya\" )) (research-institute :location (university :name (name :op4 \"University\"  :op2 \"Technological\"  :op1 \"Visvesvaraya\" )) :name (name :op4 \"Technology\"  :op3 \"of\"  :op2 \"Institute\"  :op1 \"Acharya\" ))', 'output_amr': '(multi-sentence :snt2 (and :op2 (have-org-role-91 :ARG2 (directore) :ARG0 (person :name (name :op2 \"Reddy\"  :op1 \"B.M.\" )) :ARG1 i0) :op1 (president :poss (it))) :snt1 (establish-01 :time (date-entity :year 2000 ) :ARG1 (research-institute :location (city :location (country :name (name :op1 \"India\" )) :name (name :op1 \"Bangalore\" )) :name (name :op4 \"Technology\"  :op3 \"of\"  :op2 \"Institute\"  :op1 \"Acharya\" ) :location (affiliate-01 :ARG2 (university :name (name :op1 \"Bangalore\"  :op3 \"University\"  :op2 \"Technological\"  :op1 \"Visvesvaraya\" ))))))'}\n"
          ],
          "name": "stdout"
        }
      ]
    },
    {
      "cell_type": "code",
      "metadata": {
        "id": "Mq3xhzLZscga"
      },
      "source": [
        "# Uncomment to download the dev, test and train sets\n",
        "\n",
        "# from google.colab import files\n",
        "# files.download('/content/test_web/webnlg_dev_parsed.jsonl.tf') \n",
        "# files.download('/content/test_web/webnlg_test_parsed.jsonl.tf') \n",
        "# files.download('/content/test_web/webnlg_train_parsed.jsonl.tf') "
      ],
      "execution_count": null,
      "outputs": []
    },
    {
      "cell_type": "code",
      "metadata": {
        "id": "iF7fzCdT3vWk"
      },
      "source": [
        "# !python char_level_AMR.py -f /content/test_web/webnlg_dev_parsed.jsonl.tf\n",
        "# !cat /content/test_web/webnlg_dev_parsed.jsonl.tf"
      ],
      "execution_count": null,
      "outputs": []
    },
    {
      "cell_type": "code",
      "metadata": {
        "id": "PlbKZuNF3hZE"
      },
      "source": [
        "# !python postprocess_AMRs.py -f /content/test_web/webnlg_dev_parsed.jsonl.char.tf -n\n",
        "# !cat /content/test_web/webnlg_dev_parsed.jsonl.char.tf"
      ],
      "execution_count": null,
      "outputs": []
    },
    {
      "cell_type": "code",
      "metadata": {
        "id": "psaJyAF874of"
      },
      "source": [
        "# !python reformat_single_amrs.py -f /content/test_web/webnlg_dev_parsed.jsonl.char.tf.restore.final -e .form\n",
        "# !cat /content/test_web/webnlg_dev_parsed.jsonl.char.tf.restore.final"
      ],
      "execution_count": null,
      "outputs": []
    }
  ]
}