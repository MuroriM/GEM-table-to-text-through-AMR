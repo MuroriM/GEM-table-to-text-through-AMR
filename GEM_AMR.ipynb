{
  "nbformat": 4,
  "nbformat_minor": 0,
  "metadata": {
    "colab": {
      "name": "GEM/AMR.ipynb",
      "provenance": [],
      "collapsed_sections": [
        "OyVfJsAOwoXt",
        "4vcXM_18HT4W",
        "sPWiniLSJO06",
        "Aug7n2tSN8xW"
      ],
      "toc_visible": true,
      "include_colab_link": true
    },
    "kernelspec": {
      "display_name": "Python 3",
      "name": "python3"
    },
    "language_info": {
      "name": "python"
    }
  },
  "cells": [
    {
      "cell_type": "markdown",
      "metadata": {
        "id": "view-in-github",
        "colab_type": "text"
      },
      "source": [
        "<a href=\"https://colab.research.google.com/github/MuroriM/GEM-table-to-text-through-AMR/blob/main/GEM_AMR.ipynb\" target=\"_parent\"><img src=\"https://colab.research.google.com/assets/colab-badge.svg\" alt=\"Open In Colab\"/></a>"
      ]
    },
    {
      "cell_type": "markdown",
      "metadata": {
        "id": "WseL4hAFxEQ7"
      },
      "source": [
        "# Next Step"
      ]
    },
    {
      "cell_type": "markdown",
      "metadata": {
        "id": "9CXtPiWaxwPj"
      },
      "source": [
        "## Todo (Ziming):\n",
        "Cleanup!! <br>\n",
        "Knowledge Graph-Augmented Abstractive Summarization with Semantic-Driven Cloze Reward: [Paper](https://arxiv.org/pdf/2005.01159.pdf) [Code](https://github.com/luyang-huang96/GraphAugmentedSum/blob/master/preprocess/OpenIE_process.py) <br>\n",
        "An AMR Aligner Tuned by Transition-based Parser\n",
        ": [Link](https://arxiv.org/pdf/1810.03541.pdf) [Code](https://github.com/Oneplus/tamr)"
      ]
    },
    {
      "cell_type": "markdown",
      "metadata": {
        "id": "FpQDrQmCsWKn"
      },
      "source": [
        "# Character-based AMR translation"
      ]
    },
    {
      "cell_type": "code",
      "metadata": {
        "colab": {
          "base_uri": "https://localhost:8080/"
        },
        "id": "afJNNFfUZzo8",
        "outputId": "969f04b2-76e1-40bb-fc09-8aad93efb798"
      },
      "source": [
        "!git clone https://github.com/RikVN/AMR.git\n",
        "# https://github.com/RikVN/AMR"
      ],
      "execution_count": null,
      "outputs": [
        {
          "output_type": "stream",
          "text": [
            "Cloning into 'AMR'...\n",
            "remote: Enumerating objects: 127, done.\u001b[K\n",
            "Receiving objects:   0% (1/127)   \rReceiving objects:   1% (2/127)   \rReceiving objects:   2% (3/127)   \rReceiving objects:   3% (4/127)   \rReceiving objects:   4% (6/127)   \rReceiving objects:   5% (7/127)   \rReceiving objects:   6% (8/127)   \rReceiving objects:   7% (9/127)   \rReceiving objects:   8% (11/127)   \rReceiving objects:   9% (12/127)   \rReceiving objects:  10% (13/127)   \rReceiving objects:  11% (14/127)   \rReceiving objects:  12% (16/127)   \rReceiving objects:  13% (17/127)   \rReceiving objects:  14% (18/127)   \rReceiving objects:  15% (20/127)   \rReceiving objects:  16% (21/127)   \rReceiving objects:  17% (22/127)   \rReceiving objects:  18% (23/127)   \rReceiving objects:  19% (25/127)   \rReceiving objects:  20% (26/127)   \rReceiving objects:  21% (27/127)   \rReceiving objects:  22% (28/127)   \rReceiving objects:  23% (30/127)   \rReceiving objects:  24% (31/127)   \rReceiving objects:  25% (32/127)   \rReceiving objects:  26% (34/127)   \rReceiving objects:  27% (35/127)   \rReceiving objects:  28% (36/127)   \rReceiving objects:  29% (37/127)   \rReceiving objects:  30% (39/127)   \rReceiving objects:  31% (40/127)   \rReceiving objects:  32% (41/127)   \rReceiving objects:  33% (42/127)   \rReceiving objects:  34% (44/127)   \rReceiving objects:  35% (45/127)   \rReceiving objects:  36% (46/127)   \rReceiving objects:  37% (47/127)   \rReceiving objects:  38% (49/127)   \rReceiving objects:  39% (50/127)   \rReceiving objects:  40% (51/127)   \rReceiving objects:  41% (53/127)   \rReceiving objects:  42% (54/127)   \rReceiving objects:  43% (55/127)   \rReceiving objects:  44% (56/127)   \rReceiving objects:  45% (58/127)   \rReceiving objects:  46% (59/127)   \rReceiving objects:  47% (60/127)   \rReceiving objects:  48% (61/127)   \rReceiving objects:  49% (63/127)   \rReceiving objects:  50% (64/127)   \rReceiving objects:  51% (65/127)   \rremote: Total 127 (delta 0), reused 0 (delta 0), pack-reused 127\u001b[K\n",
            "Receiving objects:  52% (67/127)   \rReceiving objects:  53% (68/127)   \rReceiving objects:  54% (69/127)   \rReceiving objects:  55% (70/127)   \rReceiving objects:  56% (72/127)   \rReceiving objects:  57% (73/127)   \rReceiving objects:  58% (74/127)   \rReceiving objects:  59% (75/127)   \rReceiving objects:  60% (77/127)   \rReceiving objects:  61% (78/127)   \rReceiving objects:  62% (79/127)   \rReceiving objects:  63% (81/127)   \rReceiving objects:  64% (82/127)   \rReceiving objects:  65% (83/127)   \rReceiving objects:  66% (84/127)   \rReceiving objects:  67% (86/127)   \rReceiving objects:  68% (87/127)   \rReceiving objects:  69% (88/127)   \rReceiving objects:  70% (89/127)   \rReceiving objects:  71% (91/127)   \rReceiving objects:  72% (92/127)   \rReceiving objects:  73% (93/127)   \rReceiving objects:  74% (94/127)   \rReceiving objects:  75% (96/127)   \rReceiving objects:  76% (97/127)   \rReceiving objects:  77% (98/127)   \rReceiving objects:  78% (100/127)   \rReceiving objects:  79% (101/127)   \rReceiving objects:  80% (102/127)   \rReceiving objects:  81% (103/127)   \rReceiving objects:  82% (105/127)   \rReceiving objects:  83% (106/127)   \rReceiving objects:  84% (107/127)   \rReceiving objects:  85% (108/127)   \rReceiving objects:  86% (110/127)   \rReceiving objects:  87% (111/127)   \rReceiving objects:  88% (112/127)   \rReceiving objects:  89% (114/127)   \rReceiving objects:  90% (115/127)   \rReceiving objects:  91% (116/127)   \rReceiving objects:  92% (117/127)   \rReceiving objects:  93% (119/127)   \rReceiving objects:  94% (120/127)   \rReceiving objects:  95% (121/127)   \rReceiving objects:  96% (122/127)   \rReceiving objects:  97% (124/127)   \rReceiving objects:  98% (125/127)   \rReceiving objects:  99% (126/127)   \rReceiving objects: 100% (127/127)   \rReceiving objects: 100% (127/127), 209.88 KiB | 16.14 MiB/s, done.\n",
            "Resolving deltas:   0% (0/54)   \rResolving deltas:   1% (1/54)   \rResolving deltas:   5% (3/54)   \rResolving deltas:  31% (17/54)   \rResolving deltas:  35% (19/54)   \rResolving deltas:  55% (30/54)   \rResolving deltas:  75% (41/54)   \rResolving deltas:  79% (43/54)   \rResolving deltas:  83% (45/54)   \rResolving deltas:  85% (46/54)   \rResolving deltas:  88% (48/54)   \rResolving deltas:  92% (50/54)   \rResolving deltas:  96% (52/54)   \rResolving deltas:  98% (53/54)   \rResolving deltas: 100% (54/54)   \rResolving deltas: 100% (54/54), done.\n"
          ],
          "name": "stdout"
        }
      ]
    },
    {
      "cell_type": "code",
      "metadata": {
        "colab": {
          "base_uri": "https://localhost:8080/"
        },
        "id": "5gJFeJAGZ4TS",
        "outputId": "2604be35-b523-40ff-aa94-94f172938e4a"
      },
      "source": [
        "%cd /content/AMR"
      ],
      "execution_count": null,
      "outputs": [
        {
          "output_type": "stream",
          "text": [
            "/content/AMR\n"
          ],
          "name": "stdout"
        }
      ]
    },
    {
      "cell_type": "code",
      "metadata": {
        "id": "g6oif5W0Z61z",
        "colab": {
          "base_uri": "https://localhost:8080/"
        },
        "outputId": "17d556e4-a2c7-40e5-e807-777f92bb4847"
      },
      "source": [
        "!git clone https://github.com/snowblink14/smatch"
      ],
      "execution_count": null,
      "outputs": [
        {
          "output_type": "stream",
          "text": [
            "fatal: destination path 'smatch' already exists and is not an empty directory.\n"
          ],
          "name": "stdout"
        }
      ]
    },
    {
      "cell_type": "code",
      "metadata": {
        "id": "Kev-EUI1Z9Qb",
        "colab": {
          "base_uri": "https://localhost:8080/"
        },
        "outputId": "46311e70-7295-4744-d6ff-b740da00d5b0"
      },
      "source": [
        "!pip install -r requirements.txt"
      ],
      "execution_count": null,
      "outputs": [
        {
          "output_type": "stream",
          "text": [
            "Requirement already satisfied: lxml in /usr/local/lib/python3.7/dist-packages (from -r requirements.txt (line 1)) (4.2.6)\n",
            "Requirement already satisfied: BeautifulSoup4 in /usr/local/lib/python3.7/dist-packages (from -r requirements.txt (line 2)) (4.6.3)\n",
            "Requirement already satisfied: requests in /usr/local/lib/python3.7/dist-packages (from -r requirements.txt (line 3)) (2.23.0)\n",
            "Requirement already satisfied: bs4 in /usr/local/lib/python3.7/dist-packages (from -r requirements.txt (line 4)) (0.0.1)\n",
            "Requirement already satisfied: idna<3,>=2.5 in /usr/local/lib/python3.7/dist-packages (from requests->-r requirements.txt (line 3)) (2.10)\n",
            "Requirement already satisfied: certifi>=2017.4.17 in /usr/local/lib/python3.7/dist-packages (from requests->-r requirements.txt (line 3)) (2020.12.5)\n",
            "Requirement already satisfied: urllib3!=1.25.0,!=1.25.1,<1.26,>=1.21.1 in /usr/local/lib/python3.7/dist-packages (from requests->-r requirements.txt (line 3)) (1.24.3)\n",
            "Requirement already satisfied: chardet<4,>=3.0.2 in /usr/local/lib/python3.7/dist-packages (from requests->-r requirements.txt (line 3)) (3.0.4)\n"
          ],
          "name": "stdout"
        }
      ]
    },
    {
      "cell_type": "code",
      "metadata": {
        "id": "DZbiwjYJnP26",
        "colab": {
          "base_uri": "https://localhost:8080/"
        },
        "outputId": "b7909fda-1ec0-40a6-b225-6695909a72a9"
      },
      "source": [
        "!python restoreAMR/restore_amr.py -f sample_input/sample.txt.char.tf -o sample_input/restored"
      ],
      "execution_count": null,
      "outputs": [
        {
          "output_type": "stream",
          "text": [
            "Traceback (most recent call last):\n",
            "  File \"restoreAMR/restore_amr.py\", line 758, in <module>\n",
            "    for idx, line in enumerate(open(args.input_file, 'r')):\n",
            "FileNotFoundError: [Errno 2] No such file or directory: 'sample_input/sample.txt.char.tf'\n"
          ],
          "name": "stdout"
        }
      ]
    },
    {
      "cell_type": "code",
      "metadata": {
        "colab": {
          "base_uri": "https://localhost:8080/",
          "height": 367
        },
        "id": "B5r0C2ZjzDWL",
        "outputId": "3ce141f4-bc0c-4034-a404-9321c50cf1ef"
      },
      "source": [
        "import amrlib\n",
        "gtos = amrlib.load_gtos_model('/content/model_generate_t5wtense-v0_1_0')\n",
        "input =  ['Patricia award BAFTA', 'BAFTA year 1992', 'Patricia is an actor']\n",
        "expected = ['Patricia was awarded BAFTA in 1992 for her role as an actor']\n",
        "input_strings = []\n",
        "output_strings = []\n",
        "graphs = stog.parse_sents(input)\n",
        "for graph in graphs:\n",
        "  string = \"\\n\".join(graph.split(\"\\n\")[1:])\n",
        "  print(string)\n",
        "  input_strings.append(string)\n",
        "\n",
        "graphs = stog.parse_sents(expected)\n",
        "for graph in graphs:\n",
        "  string = \"\\n\".join(graph.split(\"\\n\")[1:])\n",
        "  print(string)\n",
        "  output_strings.append(string)"
      ],
      "execution_count": null,
      "outputs": [
        {
          "output_type": "error",
          "ename": "ModuleNotFoundError",
          "evalue": "ignored",
          "traceback": [
            "\u001b[0;31m---------------------------------------------------------------------------\u001b[0m",
            "\u001b[0;31mModuleNotFoundError\u001b[0m                       Traceback (most recent call last)",
            "\u001b[0;32m<ipython-input-20-b81921a1e56f>\u001b[0m in \u001b[0;36m<module>\u001b[0;34m()\u001b[0m\n\u001b[0;32m----> 1\u001b[0;31m \u001b[0;32mimport\u001b[0m \u001b[0mamrlib\u001b[0m\u001b[0;34m\u001b[0m\u001b[0;34m\u001b[0m\u001b[0m\n\u001b[0m\u001b[1;32m      2\u001b[0m \u001b[0mgtos\u001b[0m \u001b[0;34m=\u001b[0m \u001b[0mamrlib\u001b[0m\u001b[0;34m.\u001b[0m\u001b[0mload_gtos_model\u001b[0m\u001b[0;34m(\u001b[0m\u001b[0;34m'/content/model_generate_t5wtense-v0_1_0'\u001b[0m\u001b[0;34m)\u001b[0m\u001b[0;34m\u001b[0m\u001b[0;34m\u001b[0m\u001b[0m\n\u001b[1;32m      3\u001b[0m \u001b[0minput\u001b[0m \u001b[0;34m=\u001b[0m  \u001b[0;34m[\u001b[0m\u001b[0;34m'Patricia award BAFTA'\u001b[0m\u001b[0;34m,\u001b[0m \u001b[0;34m'BAFTA year 1992'\u001b[0m\u001b[0;34m,\u001b[0m \u001b[0;34m'Patricia is an actor'\u001b[0m\u001b[0;34m]\u001b[0m\u001b[0;34m\u001b[0m\u001b[0;34m\u001b[0m\u001b[0m\n\u001b[1;32m      4\u001b[0m \u001b[0mexpected\u001b[0m \u001b[0;34m=\u001b[0m \u001b[0;34m[\u001b[0m\u001b[0;34m'Patricia was awarded BAFTA in 1992 for her role as an actor'\u001b[0m\u001b[0;34m]\u001b[0m\u001b[0;34m\u001b[0m\u001b[0;34m\u001b[0m\u001b[0m\n\u001b[1;32m      5\u001b[0m \u001b[0minput_strings\u001b[0m \u001b[0;34m=\u001b[0m \u001b[0;34m[\u001b[0m\u001b[0;34m]\u001b[0m\u001b[0;34m\u001b[0m\u001b[0;34m\u001b[0m\u001b[0m\n",
            "\u001b[0;31mModuleNotFoundError\u001b[0m: No module named 'amrlib'",
            "",
            "\u001b[0;31m---------------------------------------------------------------------------\u001b[0;32m\nNOTE: If your import is failing due to a missing package, you can\nmanually install dependencies using either !pip or !apt.\n\nTo view examples of installing some common dependencies, click the\n\"Open Examples\" button below.\n\u001b[0;31m---------------------------------------------------------------------------\u001b[0m\n"
          ]
        }
      ]
    },
    {
      "cell_type": "code",
      "metadata": {
        "id": "_Zd8M-9FeQsx"
      },
      "source": [
        "f = open('/content/test.txt.tf', 'r')\n",
        "file_contents = f.read()\n",
        "print(file_contents)\n",
        "f.close()"
      ],
      "execution_count": null,
      "outputs": []
    },
    {
      "cell_type": "code",
      "metadata": {
        "id": "NVQ2K01jz9dI"
      },
      "source": [
        "%cd /content/AMR"
      ],
      "execution_count": null,
      "outputs": []
    },
    {
      "cell_type": "code",
      "metadata": {
        "id": "kRZz3iPJzzs0"
      },
      "source": [
        "# Put the above AMRs in the /content/test.txt\n",
        "# Remember to add a new line between each AMR\n",
        "!python var_free_amrs.py -f /content/test.txt"
      ],
      "execution_count": null,
      "outputs": []
    },
    {
      "cell_type": "code",
      "metadata": {
        "id": "iF7fzCdT3vWk"
      },
      "source": [
        "!python char_level_AMR.py -f /content/test.txt.tf"
      ],
      "execution_count": null,
      "outputs": []
    },
    {
      "cell_type": "code",
      "metadata": {
        "id": "sACuxD8j5P5G"
      },
      "source": [
        "%cd /content/AMR"
      ],
      "execution_count": null,
      "outputs": []
    },
    {
      "cell_type": "code",
      "metadata": {
        "id": "gNtRq_-K7cWn"
      },
      "source": [
        "# This step is important!\n",
        "# Though a temporary fix\n",
        "!cp amr_utils.py restoreAMR\n",
        "!cp best_amr_permutation.py restoreAMR\n",
        "!cp var_free_amrs.py restoreAMR\n"
      ],
      "execution_count": null,
      "outputs": []
    },
    {
      "cell_type": "code",
      "metadata": {
        "id": "PlbKZuNF3hZE"
      },
      "source": [
        "!python postprocess_AMRs.py -f /content/test.txt.char.tf -n"
      ],
      "execution_count": null,
      "outputs": []
    },
    {
      "cell_type": "code",
      "metadata": {
        "id": "psaJyAF874of"
      },
      "source": [
        "!python reformat_single_amrs.py -f /content/test.txt.char.tf.restore.final -e .form"
      ],
      "execution_count": null,
      "outputs": []
    },
    {
      "cell_type": "markdown",
      "metadata": {
        "id": "_MAa4QDwsZPJ"
      },
      "source": [
        "# AMR-gs"
      ]
    },
    {
      "cell_type": "code",
      "metadata": {
        "id": "pan7x0stscjJ"
      },
      "source": [
        "%cd /content"
      ],
      "execution_count": null,
      "outputs": []
    },
    {
      "cell_type": "code",
      "metadata": {
        "id": "b-Rcio6ptECv"
      },
      "source": [
        "# https://github.com/jcyk/AMR-gs\n",
        "!git clone https://github.com/jcyk/AMR-gs.git"
      ],
      "execution_count": null,
      "outputs": []
    },
    {
      "cell_type": "code",
      "metadata": {
        "id": "kb5lj4QuuKW0"
      },
      "source": [
        "%cd AMR-gs/"
      ],
      "execution_count": null,
      "outputs": []
    },
    {
      "cell_type": "code",
      "metadata": {
        "id": "9npxy8xBuNMn"
      },
      "source": [
        "!pip install -r requirements.txt"
      ],
      "execution_count": null,
      "outputs": []
    },
    {
      "cell_type": "code",
      "metadata": {
        "id": "fBRGLvrbwFEB"
      },
      "source": [
        "!pip install pytorch_pretrained_bert"
      ],
      "execution_count": null,
      "outputs": []
    },
    {
      "cell_type": "code",
      "metadata": {
        "id": "iNmI0Mb6wQ0O"
      },
      "source": [
        "!pip install pycorenlp"
      ],
      "execution_count": null,
      "outputs": []
    },
    {
      "cell_type": "code",
      "metadata": {
        "id": "UT-UPWg2uswN"
      },
      "source": [
        "!sh run_standford_corenlp_server.sh"
      ],
      "execution_count": null,
      "outputs": []
    },
    {
      "cell_type": "code",
      "metadata": {
        "id": "ACZyU8IWu06J"
      },
      "source": [
        "!sh preprocess_raw.sh /content/AMR/sample_input/sample.txt.sent"
      ],
      "execution_count": null,
      "outputs": []
    },
    {
      "cell_type": "markdown",
      "metadata": {
        "id": "ZxoGlpo7wEx2"
      },
      "source": [
        "# Penman"
      ]
    },
    {
      "cell_type": "code",
      "metadata": {
        "id": "veXewfgxdhJs"
      },
      "source": [
        "!pip install penman\n",
        "# https://penman.readthedocs.io/en/latest/library.html"
      ],
      "execution_count": null,
      "outputs": []
    },
    {
      "cell_type": "code",
      "metadata": {
        "id": "J4kvzsmpdjdz"
      },
      "source": [
        "import penman\n",
        "from penman import constant\n",
        "from penman.graph import Graph"
      ],
      "execution_count": null,
      "outputs": []
    },
    {
      "cell_type": "code",
      "metadata": {
        "id": "LOFKuB2qeFyf"
      },
      "source": [
        "# Convert triples to penman notation\n",
        "g2 = Graph([('a', ':instance', 'award-01'),('p', ':instance', 'Patricia'),('b', ':instance', 'BAFTA'), ('p', ':ARG1', 'a'), ('b', ':ARG0', 'a')])"
      ],
      "execution_count": null,
      "outputs": []
    },
    {
      "cell_type": "code",
      "metadata": {
        "id": "lMfxzVk-eLNh"
      },
      "source": [
        "print(penman.encode(g2))"
      ],
      "execution_count": null,
      "outputs": []
    },
    {
      "cell_type": "markdown",
      "metadata": {
        "id": "OyVfJsAOwoXt"
      },
      "source": [
        "# amrlib"
      ]
    },
    {
      "cell_type": "code",
      "metadata": {
        "id": "zB7PA80x9a_j"
      },
      "source": [
        "%cd /content"
      ],
      "execution_count": null,
      "outputs": []
    },
    {
      "cell_type": "code",
      "metadata": {
        "id": "XNIORDyHp-w2"
      },
      "source": [
        "!pip3 install amrlib"
      ],
      "execution_count": null,
      "outputs": []
    },
    {
      "cell_type": "code",
      "metadata": {
        "id": "xGyt2dLSqhgE"
      },
      "source": [
        "!git clone https://github.com/bjascob/amrlib.git"
      ],
      "execution_count": null,
      "outputs": []
    },
    {
      "cell_type": "code",
      "metadata": {
        "id": "nQdUmWKhszGM"
      },
      "source": [
        "!wget https://github.com/bjascob/amrlib-models/releases/download/model_parse_t5-v0_1_0/model_parse_t5-v0_1_0.tar.gz"
      ],
      "execution_count": null,
      "outputs": []
    },
    {
      "cell_type": "code",
      "metadata": {
        "id": "fAm4rdVrsO40"
      },
      "source": [
        "!tar xzf model_parse_t5-v0_1_0.tar.gz"
      ],
      "execution_count": null,
      "outputs": []
    },
    {
      "cell_type": "code",
      "metadata": {
        "id": "mbTxhd3FO3yI"
      },
      "source": [
        "!wget https://github.com/bjascob/amrlib-models/releases/download/model_generate_t5wtense-v0_1_0/model_generate_t5wtense-v0_1_0.tar.gz"
      ],
      "execution_count": null,
      "outputs": []
    },
    {
      "cell_type": "code",
      "metadata": {
        "id": "IrRV0XU0O5rI"
      },
      "source": [
        "!tar xzf model_generate_t5wtense-v0_1_0.tar.gz"
      ],
      "execution_count": null,
      "outputs": []
    },
    {
      "cell_type": "code",
      "metadata": {
        "id": "FzXYtl8MttdW"
      },
      "source": [
        "!pip install sentencepiece\n",
        "!pip install word2number"
      ],
      "execution_count": null,
      "outputs": []
    },
    {
      "cell_type": "code",
      "metadata": {
        "id": "XNtuofcHsAVo"
      },
      "source": [
        "import amrlib\n",
        "stog = amrlib.load_stog_model('/content/model_parse_t5-v0_1_0')\n",
        "graphs = stog.parse_sents(['I love cooking'])\n",
        "for graph in graphs:\n",
        "    print(graph)"
      ],
      "execution_count": null,
      "outputs": []
    },
    {
      "cell_type": "markdown",
      "metadata": {
        "id": "4vcXM_18HT4W"
      },
      "source": [
        "# Named-entity extractor / wikidata "
      ]
    },
    {
      "cell_type": "code",
      "metadata": {
        "id": "PNVu2NklHcpV"
      },
      "source": [
        "# Link to my Wikidata-based entity extractor notebook (for the fb project)\n",
        "# https://colab.research.google.com/drive/1bp4ME-HBdJuPQWzy2crQth-yEM67UO1y?usp=sharing"
      ],
      "execution_count": null,
      "outputs": []
    },
    {
      "cell_type": "code",
      "metadata": {
        "id": "o-pyfLGyI7o-"
      },
      "source": [
        "# This is to address the issue that amrlib may not know what \"BAFTA\" is"
      ],
      "execution_count": null,
      "outputs": []
    },
    {
      "cell_type": "code",
      "metadata": {
        "id": "jqitkBGiHgj1"
      },
      "source": [
        "import requests\n",
        "!pip install wptools\n",
        "import wptools"
      ],
      "execution_count": null,
      "outputs": []
    },
    {
      "cell_type": "code",
      "metadata": {
        "id": "Yr0mIv66Hk6g"
      },
      "source": [
        "entity = \"BAFTA\"\n",
        "\n",
        "API_ENDPOINT = \"https://www.wikidata.org/w/api.php\"\n",
        "params = {\n",
        "    'action': 'wbsearchentities',\n",
        "    'format': 'json',\n",
        "    'language': 'en',\n",
        "    'search': entity\n",
        "}\n",
        "r = requests.get(API_ENDPOINT, params = params)\n",
        "try: \n",
        "  print(r.json()['search'][0]['label'])\n",
        "except:\n",
        "  pass  "
      ],
      "execution_count": null,
      "outputs": []
    },
    {
      "cell_type": "code",
      "metadata": {
        "id": "B6_yJ2pvIjz6"
      },
      "source": [
        "# Wikidata has \"instance of\" and \"subclass of\" property link\n",
        "# May not work well here"
      ],
      "execution_count": null,
      "outputs": []
    },
    {
      "cell_type": "markdown",
      "metadata": {
        "id": "hyS_IphACvQo"
      },
      "source": [
        "# Triple-to-AMR"
      ]
    },
    {
      "cell_type": "code",
      "metadata": {
        "id": "_ryF6Ch6C0dA"
      },
      "source": [
        "# Two lists of sample triples\n",
        "triples = [['Patricia', 'award', 'BAFTA'], ['BAFTA', 'year', '1992'], ['Patricia', 'role', 'actor']]\n",
        "triples = [[\"Mars Hill College\",\"JOINED\",\"1973\"],[\"Mars Hill College\",\"LOCATION\",\"Mars Hill, North Carolina\"]]"
      ],
      "execution_count": null,
      "outputs": []
    },
    {
      "cell_type": "code",
      "metadata": {
        "id": "mVQgCZdXDN2l"
      },
      "source": [
        "# Simply joining them into a sentence\n",
        "sents = [' '.join(triple) for triple in triples]\n",
        "sents"
      ],
      "execution_count": null,
      "outputs": []
    },
    {
      "cell_type": "code",
      "metadata": {
        "id": "ovOhVXd_DSrZ"
      },
      "source": [
        "graphs = stog.parse_sents(sents)"
      ],
      "execution_count": null,
      "outputs": []
    },
    {
      "cell_type": "code",
      "metadata": {
        "id": "Jch2x-VAByPl"
      },
      "source": [
        "strings = []\n",
        "for graph in graphs:\n",
        "  # Remove the first line (which is the comment that contains the original sentence)\n",
        "  string = \"\\n\".join(graph.split(\"\\n\")[1:])\n",
        "  print(string)\n",
        "  strings.append(string)"
      ],
      "execution_count": null,
      "outputs": []
    },
    {
      "cell_type": "code",
      "metadata": {
        "id": "EyXhgONx72rP"
      },
      "source": [
        "# Reproduce the sentence from these amr graphs\n",
        "import amrlib\n",
        "gtos = amrlib.load_gtos_model('/content/model_generate_t5wtense-v0_1_0')\n",
        "sents, _ = gtos.generate(strings)\n",
        "for sent in sents:\n",
        "  print(sent)"
      ],
      "execution_count": null,
      "outputs": []
    },
    {
      "cell_type": "code",
      "metadata": {
        "id": "uGv_EB6nBaKo"
      },
      "source": [
        "triples_list = []\n",
        "for string in strings:\n",
        "  g = penman.decode(string)\n",
        "  triples_list.append(g.triples)"
      ],
      "execution_count": null,
      "outputs": []
    },
    {
      "cell_type": "code",
      "metadata": {
        "id": "TZ5pugdDBf-p"
      },
      "source": [
        "t = g.triples\n",
        "t"
      ],
      "execution_count": null,
      "outputs": []
    },
    {
      "cell_type": "markdown",
      "metadata": {
        "id": "sPWiniLSJO06"
      },
      "source": [
        "# Triple merging"
      ]
    },
    {
      "cell_type": "code",
      "metadata": {
        "id": "8_ndnY__JRhJ"
      },
      "source": [
        "triples_list"
      ],
      "execution_count": null,
      "outputs": []
    },
    {
      "cell_type": "code",
      "metadata": {
        "id": "g8d5KjxiJlef"
      },
      "source": [
        "# Map entities (e.g. BAFTA) to symbol (e.g. 'n1')\n",
        "entity_to_symbol = {}\n",
        "\n",
        "# A set recording used symbols (e.g. 'n1')\n",
        "used_symbol = set()\n",
        "\n",
        "# Final set of triples\n",
        "triples_final = set()\n",
        "\n",
        "for triples in triples_list:\n",
        "  old_to_new = {}\n",
        "  for sub, pred, obj in triples:\n",
        "\n",
        "    # If the symbol is already taken by the same entity in previous triples\n",
        "    if \":op\" in pred and obj in entity_to_symbol:\n",
        "      old_to_new[sub] = entity_to_symbol[obj]\n",
        "      used_symbol.add(sub)\n",
        "\n",
        "    # if the symbol is not taken\n",
        "    elif \":op\" in pred and obj not in entity_to_symbol:\n",
        "      entity_to_symbol[obj] = sub\n",
        "      used_symbol.add(sub)\n",
        "\n",
        "    # If the symbol is taken by a different entitty\n",
        "    elif \":op\" in pred and sub in used_symbol:\n",
        "      # Pick a new 'n' symbol by incrementing \"n\" symbol\n",
        "      if sub == \"n\":\n",
        "        old_to_new[sub] = \"n2\"\n",
        "      else:\n",
        "        old_to_new[sub] = \"n\" + str((int(sub[1]) + 1))\n",
        "\n",
        "  print(old_to_new)\n",
        "\n",
        "  # Modify the triples\n",
        "  for sub, pred, obj in triples:\n",
        "    if sub in old_to_new:\n",
        "      sub = old_to_new[sub]\n",
        "    if obj in old_to_new:\n",
        "      obj = old_to_new[obj]\n",
        "    triples_final.add((sub, pred, obj))  "
      ],
      "execution_count": null,
      "outputs": []
    },
    {
      "cell_type": "code",
      "metadata": {
        "id": "LX7aCuHBLPle"
      },
      "source": [
        "entity_to_symbol"
      ],
      "execution_count": null,
      "outputs": []
    },
    {
      "cell_type": "code",
      "metadata": {
        "id": "OAR0mUOKNbSv"
      },
      "source": [
        "triples_final"
      ],
      "execution_count": null,
      "outputs": []
    },
    {
      "cell_type": "markdown",
      "metadata": {
        "id": "Aug7n2tSN8xW"
      },
      "source": [
        "# Sentence Generation"
      ]
    },
    {
      "cell_type": "code",
      "metadata": {
        "id": "vq-JkHObOBzD"
      },
      "source": [
        "g = Graph(list(triples_final))"
      ],
      "execution_count": null,
      "outputs": []
    },
    {
      "cell_type": "code",
      "metadata": {
        "id": "CmdxckSSOKPj"
      },
      "source": [
        "graph = penman.encode(g)\n",
        "print(graph)"
      ],
      "execution_count": null,
      "outputs": []
    },
    {
      "cell_type": "code",
      "metadata": {
        "id": "-hvwBIrkOleJ"
      },
      "source": [
        "import amrlib\n",
        "gtos = amrlib.load_gtos_model('/content/model_generate_t5wtense-v0_1_0')\n",
        "sents, _ = gtos.generate([graph])"
      ],
      "execution_count": null,
      "outputs": []
    },
    {
      "cell_type": "code",
      "metadata": {
        "id": "3ICL-yuWPtHq"
      },
      "source": [
        "\"\"\"\n",
        " Triples = [\n",
        "  ['Patricia', 'award', 'BAFTA'], \n",
        "  ['BAFTA', 'year', '1992'], \n",
        "  ['Patricia', 'role', 'actor']\n",
        "]\n",
        "\"\"\"\n",
        "for sent in sents:\n",
        "    print(sent)"
      ],
      "execution_count": null,
      "outputs": []
    },
    {
      "cell_type": "code",
      "metadata": {
        "id": "Ev5igYDZQqBR"
      },
      "source": [
        "# Possible-fix (Ziming):\n",
        "# named entity recognition for terms such as BAFTA\n",
        "# Adjust tense of the column header: Change \"award\" to \"awarded\"\n",
        "# To-do: \n",
        "# Merge rows\n",
        "# The order is wrong"
      ],
      "execution_count": null,
      "outputs": []
    },
    {
      "cell_type": "markdown",
      "metadata": {
        "id": "pHeem94u0BKX"
      },
      "source": [
        "# amr-reader"
      ]
    },
    {
      "cell_type": "code",
      "metadata": {
        "id": "Qe6e8PF19Vlv"
      },
      "source": [
        "%cd /content"
      ],
      "execution_count": null,
      "outputs": []
    },
    {
      "cell_type": "code",
      "metadata": {
        "id": "v-v8_eybzMWw"
      },
      "source": [
        "!git clone https://github.com/panx27/amr-reader.git"
      ],
      "execution_count": null,
      "outputs": []
    },
    {
      "cell_type": "code",
      "metadata": {
        "id": "anmUsFub1wGx"
      },
      "source": [
        "# Put the penman encoding to amr-reader/amrreader/test/test_amr_doc/test"
      ],
      "execution_count": null,
      "outputs": []
    },
    {
      "cell_type": "code",
      "metadata": {
        "id": "VChN_ccrzY6d"
      },
      "source": [
        "!sudo pip install pygraphviz"
      ],
      "execution_count": null,
      "outputs": []
    },
    {
      "cell_type": "code",
      "metadata": {
        "id": "79iXo6v7zQZ0"
      },
      "source": [
        "!python amr-reader/amrreader/main.py amr-reader/amrreader/test/test_amr_doc/ output/ -v=s"
      ],
      "execution_count": null,
      "outputs": []
    },
    {
      "cell_type": "code",
      "metadata": {
        "id": "MKO4KYu-0tjY"
      },
      "source": [
        "# Look for output/graphs"
      ],
      "execution_count": null,
      "outputs": []
    },
    {
      "cell_type": "markdown",
      "metadata": {
        "id": "LVxL8NjU3a5j"
      },
      "source": [
        "![DF-170-181103-888_2097.1.png](data:image/png;base64,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)"
      ]
    },
    {
      "cell_type": "markdown",
      "metadata": {
        "id": "YKYl8yXB07uK"
      },
      "source": [
        "# Smatch"
      ]
    },
    {
      "cell_type": "code",
      "metadata": {
        "id": "sJvYaCN50_v5"
      },
      "source": [
        "!git clone https://github.com/snowblink14/smatch.git"
      ],
      "execution_count": null,
      "outputs": []
    },
    {
      "cell_type": "code",
      "metadata": {
        "id": "gZCTdUta1JJn"
      },
      "source": [
        "%cd smatch"
      ],
      "execution_count": null,
      "outputs": []
    },
    {
      "cell_type": "code",
      "metadata": {
        "id": "6DfEUEpg1LVx"
      },
      "source": [
        "!python smatch.py -f test_input1.txt test_input2.txt"
      ],
      "execution_count": null,
      "outputs": []
    },
    {
      "cell_type": "code",
      "metadata": {
        "id": "_fGduU4n1hxG"
      },
      "source": [
        "!python smatch.py --help"
      ],
      "execution_count": null,
      "outputs": []
    },
    {
      "cell_type": "code",
      "metadata": {
        "id": "FuU33GvE2oGS"
      },
      "source": [
        "!python smatch.py -f test_input1.txt test_input2.txt --ms"
      ],
      "execution_count": null,
      "outputs": []
    },
    {
      "cell_type": "code",
      "metadata": {
        "id": "MSgH9J-u3P8A"
      },
      "source": [
        "# print(cur_amr1, cur_amr2) on line 739\n",
        "!python smatch.py -f test_input1.txt test_input2.txt"
      ],
      "execution_count": null,
      "outputs": []
    },
    {
      "cell_type": "code",
      "metadata": {
        "id": "aqga9U-q47m6"
      },
      "source": [
        "# Print out the AMR mapping\n",
        "!python smatch.py -f test_input1.txt test_input2.txt"
      ],
      "execution_count": null,
      "outputs": []
    },
    {
      "cell_type": "code",
      "metadata": {
        "id": "EQsydt_AMX3D"
      },
      "source": [
        "# Not really working rn:\n",
        "# /data/lily/zm92/GEM/smatch/"
      ],
      "execution_count": null,
      "outputs": []
    },
    {
      "cell_type": "code",
      "metadata": {
        "id": "VK7PHBsyBEd8"
      },
      "source": [
        "Another possible direction: https://github.com/tmetsch/graph_stitcher"
      ],
      "execution_count": null,
      "outputs": []
    },
    {
      "cell_type": "markdown",
      "metadata": {
        "id": "_qoMqq7Ep6Sr"
      },
      "source": [
        "# TAMR (to-be-fixed)"
      ]
    },
    {
      "cell_type": "code",
      "metadata": {
        "id": "vVYYp2XV_8bu"
      },
      "source": [
        "%cd /content"
      ],
      "execution_count": null,
      "outputs": []
    },
    {
      "cell_type": "code",
      "metadata": {
        "id": "kkITdvctp8fu"
      },
      "source": [
        "!git clone https://github.com/Oneplus/tamr.git"
      ],
      "execution_count": null,
      "outputs": []
    },
    {
      "cell_type": "code",
      "metadata": {
        "id": "tyvJkZyxqlkh"
      },
      "source": [
        "!git clone https://github.com/jflanigan/jamr.git"
      ],
      "execution_count": null,
      "outputs": []
    },
    {
      "cell_type": "code",
      "metadata": {
        "id": "8eB_84qsqAEP"
      },
      "source": [
        "%cd tamr"
      ],
      "execution_count": null,
      "outputs": []
    },
    {
      "cell_type": "code",
      "metadata": {
        "id": "Z_0fvaQZqDJI"
      },
      "source": [
        "!chmod +x ./pipeline.sh"
      ],
      "execution_count": null,
      "outputs": []
    },
    {
      "cell_type": "code",
      "metadata": {
        "id": "qV7fDXqiqM8g"
      },
      "source": [
        "# # Please specify the JAMR home here.\n",
        "# JAMR_HOME=/content/jamr\n",
        "# Please specify the TAMR home here.\n",
        "# TAMR_HOME=/content/tamr\n",
        "# Change Python to python2\n",
        "# ^ still has the penman issue that cannot be solved\n",
        "\n",
        "!./pipeline.sh"
      ],
      "execution_count": null,
      "outputs": []
    },
    {
      "cell_type": "markdown",
      "metadata": {
        "id": "vOTMftLp5YMY"
      },
      "source": [
        "# AMR-Eager (To-be-fixed)"
      ]
    },
    {
      "cell_type": "code",
      "metadata": {
        "id": "0AzalLGC5cfc"
      },
      "source": [
        "!git clone https://github.com/mdtux89/amr-eager.git"
      ],
      "execution_count": null,
      "outputs": []
    },
    {
      "cell_type": "code",
      "metadata": {
        "id": "wgW2tRwi5fEJ"
      },
      "source": [
        "%cd amr-eager/"
      ],
      "execution_count": null,
      "outputs": []
    },
    {
      "cell_type": "code",
      "metadata": {
        "id": "_SY2lBY_5uAl"
      },
      "source": [
        "# Doesn't work\n",
        "!./download.sh"
      ],
      "execution_count": null,
      "outputs": []
    },
    {
      "cell_type": "markdown",
      "metadata": {
        "id": "Ph92ai6Ph8cQ"
      },
      "source": [
        "# Graph Augmented Summ (to-be-fixed)"
      ]
    },
    {
      "cell_type": "code",
      "metadata": {
        "id": "oZ7MKRfxiA_B"
      },
      "source": [
        "!git clone https://github.com/luyang-huang96/GraphAugmentedSum.git"
      ],
      "execution_count": null,
      "outputs": []
    },
    {
      "cell_type": "code",
      "metadata": {
        "id": "gG1QwBHkiELA"
      },
      "source": [
        "!python GraphAugmentedSum/preprocess/OpenIE_process.py"
      ],
      "execution_count": null,
      "outputs": []
    }
  ]
}