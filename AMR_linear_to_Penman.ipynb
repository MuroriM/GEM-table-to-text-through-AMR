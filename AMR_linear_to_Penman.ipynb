{
  "nbformat": 4,
  "nbformat_minor": 0,
  "metadata": {
    "colab": {
      "name": "AMR linear to Penman",
      "provenance": [],
      "collapsed_sections": [],
      "toc_visible": true,
      "include_colab_link": true
    },
    "kernelspec": {
      "name": "python3",
      "display_name": "Python 3"
    },
    "language_info": {
      "name": "python"
    }
  },
  "cells": [
    {
      "cell_type": "markdown",
      "metadata": {
        "id": "view-in-github",
        "colab_type": "text"
      },
      "source": [
        "<a href=\"https://colab.research.google.com/github/MuroriM/GEM-table-to-text-through-AMR/blob/main/AMR_linear_to_Penman.ipynb\" target=\"_parent\"><img src=\"https://colab.research.google.com/assets/colab-badge.svg\" alt=\"Open In Colab\"/></a>"
      ]
    },
    {
      "cell_type": "markdown",
      "metadata": {
        "id": "J0qDWQcKiDQa"
      },
      "source": [
        "# AMR linearizer  \n",
        "This converts AMRs from Penman notation to their linear equivalent. This includes stripping of variables, newline characters, and other whitespaces."
      ]
    },
    {
      "cell_type": "code",
      "metadata": {
        "colab": {
          "base_uri": "https://localhost:8080/"
        },
        "id": "8vdd7-LlAek4",
        "outputId": "825fb276-e67d-486f-e160-1812c4df92eb"
      },
      "source": [
        "!pip install amrlib"
      ],
      "execution_count": null,
      "outputs": [
        {
          "output_type": "stream",
          "text": [
            "Requirement already satisfied: amrlib in /usr/local/lib/python3.7/dist-packages (0.5.1)\n",
            "Requirement already satisfied: transformers>=3.0 in /usr/local/lib/python3.7/dist-packages (from amrlib) (4.5.1)\n",
            "Requirement already satisfied: numpy in /usr/local/lib/python3.7/dist-packages (from amrlib) (1.19.5)\n",
            "Requirement already satisfied: penman>=1.1.0 in /usr/local/lib/python3.7/dist-packages (from amrlib) (1.2.0)\n",
            "Requirement already satisfied: smatch in /usr/local/lib/python3.7/dist-packages (from amrlib) (1.0.4)\n",
            "Requirement already satisfied: tqdm in /usr/local/lib/python3.7/dist-packages (from amrlib) (4.41.1)\n",
            "Requirement already satisfied: spacy>=2.0 in /usr/local/lib/python3.7/dist-packages (from amrlib) (2.2.4)\n",
            "Requirement already satisfied: torch>=1.6 in /usr/local/lib/python3.7/dist-packages (from amrlib) (1.8.1+cu101)\n",
            "Requirement already satisfied: requests in /usr/local/lib/python3.7/dist-packages (from transformers>=3.0->amrlib) (2.23.0)\n",
            "Requirement already satisfied: importlib-metadata; python_version < \"3.8\" in /usr/local/lib/python3.7/dist-packages (from transformers>=3.0->amrlib) (3.10.1)\n",
            "Requirement already satisfied: filelock in /usr/local/lib/python3.7/dist-packages (from transformers>=3.0->amrlib) (3.0.12)\n",
            "Requirement already satisfied: tokenizers<0.11,>=0.10.1 in /usr/local/lib/python3.7/dist-packages (from transformers>=3.0->amrlib) (0.10.2)\n",
            "Requirement already satisfied: regex!=2019.12.17 in /usr/local/lib/python3.7/dist-packages (from transformers>=3.0->amrlib) (2019.12.20)\n",
            "Requirement already satisfied: packaging in /usr/local/lib/python3.7/dist-packages (from transformers>=3.0->amrlib) (20.9)\n",
            "Requirement already satisfied: sacremoses in /usr/local/lib/python3.7/dist-packages (from transformers>=3.0->amrlib) (0.0.45)\n",
            "Requirement already satisfied: cymem<2.1.0,>=2.0.2 in /usr/local/lib/python3.7/dist-packages (from spacy>=2.0->amrlib) (2.0.5)\n",
            "Requirement already satisfied: thinc==7.4.0 in /usr/local/lib/python3.7/dist-packages (from spacy>=2.0->amrlib) (7.4.0)\n",
            "Requirement already satisfied: wasabi<1.1.0,>=0.4.0 in /usr/local/lib/python3.7/dist-packages (from spacy>=2.0->amrlib) (0.8.2)\n",
            "Requirement already satisfied: srsly<1.1.0,>=1.0.2 in /usr/local/lib/python3.7/dist-packages (from spacy>=2.0->amrlib) (1.0.5)\n",
            "Requirement already satisfied: catalogue<1.1.0,>=0.0.7 in /usr/local/lib/python3.7/dist-packages (from spacy>=2.0->amrlib) (1.0.0)\n",
            "Requirement already satisfied: blis<0.5.0,>=0.4.0 in /usr/local/lib/python3.7/dist-packages (from spacy>=2.0->amrlib) (0.4.1)\n",
            "Requirement already satisfied: plac<1.2.0,>=0.9.6 in /usr/local/lib/python3.7/dist-packages (from spacy>=2.0->amrlib) (1.1.3)\n",
            "Requirement already satisfied: preshed<3.1.0,>=3.0.2 in /usr/local/lib/python3.7/dist-packages (from spacy>=2.0->amrlib) (3.0.5)\n",
            "Requirement already satisfied: murmurhash<1.1.0,>=0.28.0 in /usr/local/lib/python3.7/dist-packages (from spacy>=2.0->amrlib) (1.0.5)\n",
            "Requirement already satisfied: setuptools in /usr/local/lib/python3.7/dist-packages (from spacy>=2.0->amrlib) (56.1.0)\n",
            "Requirement already satisfied: typing-extensions in /usr/local/lib/python3.7/dist-packages (from torch>=1.6->amrlib) (3.7.4.3)\n",
            "Requirement already satisfied: chardet<4,>=3.0.2 in /usr/local/lib/python3.7/dist-packages (from requests->transformers>=3.0->amrlib) (3.0.4)\n",
            "Requirement already satisfied: certifi>=2017.4.17 in /usr/local/lib/python3.7/dist-packages (from requests->transformers>=3.0->amrlib) (2020.12.5)\n",
            "Requirement already satisfied: idna<3,>=2.5 in /usr/local/lib/python3.7/dist-packages (from requests->transformers>=3.0->amrlib) (2.10)\n",
            "Requirement already satisfied: urllib3!=1.25.0,!=1.25.1,<1.26,>=1.21.1 in /usr/local/lib/python3.7/dist-packages (from requests->transformers>=3.0->amrlib) (1.24.3)\n",
            "Requirement already satisfied: zipp>=0.5 in /usr/local/lib/python3.7/dist-packages (from importlib-metadata; python_version < \"3.8\"->transformers>=3.0->amrlib) (3.4.1)\n",
            "Requirement already satisfied: pyparsing>=2.0.2 in /usr/local/lib/python3.7/dist-packages (from packaging->transformers>=3.0->amrlib) (2.4.7)\n",
            "Requirement already satisfied: joblib in /usr/local/lib/python3.7/dist-packages (from sacremoses->transformers>=3.0->amrlib) (1.0.1)\n",
            "Requirement already satisfied: click in /usr/local/lib/python3.7/dist-packages (from sacremoses->transformers>=3.0->amrlib) (7.1.2)\n",
            "Requirement already satisfied: six in /usr/local/lib/python3.7/dist-packages (from sacremoses->transformers>=3.0->amrlib) (1.15.0)\n"
          ],
          "name": "stdout"
        }
      ]
    },
    {
      "cell_type": "code",
      "metadata": {
        "colab": {
          "base_uri": "https://localhost:8080/"
        },
        "id": "uHUTT46j-W2K",
        "outputId": "05e0afff-7fb5-4316-9e68-c751d388e056"
      },
      "source": [
        "# remove files from previous sessions\n",
        "\n",
        "!ls\n",
        "!rm -r AMR test_web smatch\n",
        "!ls"
      ],
      "execution_count": null,
      "outputs": [
        {
          "output_type": "stream",
          "text": [
            "AMR  sample_data  test_web\n",
            "rm: cannot remove 'smatch': No such file or directory\n",
            "sample_data\n"
          ],
          "name": "stdout"
        }
      ]
    },
    {
      "cell_type": "code",
      "metadata": {
        "colab": {
          "base_uri": "https://localhost:8080/"
        },
        "id": "INbgQvGB5-7n",
        "outputId": "ec315484-65ba-465f-a07b-6934cef8aa63"
      },
      "source": [
        "# load dev, train, test, webnlg data\n",
        "\n",
        "!git clone https://github.com/MuroriM/test_web.git\n",
        "# https://github.com/MuroriM/test_web"
      ],
      "execution_count": null,
      "outputs": [
        {
          "output_type": "stream",
          "text": [
            "Cloning into 'test_web'...\n",
            "remote: Enumerating objects: 19, done.\u001b[K\n",
            "remote: Counting objects: 100% (19/19), done.\u001b[K\n",
            "remote: Compressing objects: 100% (19/19), done.\u001b[K\n",
            "remote: Total 19 (delta 8), reused 0 (delta 0), pack-reused 0\u001b[K\n",
            "Unpacking objects: 100% (19/19), done.\n"
          ],
          "name": "stdout"
        }
      ]
    },
    {
      "cell_type": "markdown",
      "metadata": {
        "id": "FpQDrQmCsWKn"
      },
      "source": [
        "# Character-based AMR translation"
      ]
    },
    {
      "cell_type": "code",
      "metadata": {
        "colab": {
          "base_uri": "https://localhost:8080/"
        },
        "id": "afJNNFfUZzo8",
        "outputId": "125519a5-37ac-47f0-fe0d-a63bc3381134"
      },
      "source": [
        "!git clone https://github.com/RikVN/AMR.git\n",
        "# https://github.com/RikVN/AMR"
      ],
      "execution_count": null,
      "outputs": [
        {
          "output_type": "stream",
          "text": [
            "Cloning into 'AMR'...\n",
            "remote: Enumerating objects: 127, done.\u001b[K\n",
            "remote: Total 127 (delta 0), reused 0 (delta 0), pack-reused 127\u001b[K\n",
            "Receiving objects: 100% (127/127), 209.88 KiB | 8.74 MiB/s, done.\n",
            "Resolving deltas: 100% (54/54), done.\n"
          ],
          "name": "stdout"
        }
      ]
    },
    {
      "cell_type": "code",
      "metadata": {
        "colab": {
          "base_uri": "https://localhost:8080/"
        },
        "id": "5gJFeJAGZ4TS",
        "outputId": "5fc8dc79-5abc-44d2-b310-aad6c12dadea"
      },
      "source": [
        "%cd /content/AMR"
      ],
      "execution_count": null,
      "outputs": [
        {
          "output_type": "stream",
          "text": [
            "/content/AMR\n"
          ],
          "name": "stdout"
        }
      ]
    },
    {
      "cell_type": "code",
      "metadata": {
        "id": "g6oif5W0Z61z",
        "colab": {
          "base_uri": "https://localhost:8080/"
        },
        "outputId": "f7727154-779f-4b44-9a69-e89c64a97126"
      },
      "source": [
        "!git clone https://github.com/snowblink14/smatch"
      ],
      "execution_count": null,
      "outputs": [
        {
          "output_type": "stream",
          "text": [
            "Cloning into 'smatch'...\n",
            "remote: Enumerating objects: 147, done.\u001b[K\n",
            "remote: Counting objects: 100% (3/3), done.\u001b[K\n",
            "remote: Compressing objects: 100% (3/3), done.\u001b[K\n",
            "remote: Total 147 (delta 0), reused 2 (delta 0), pack-reused 144\u001b[K\n",
            "Receiving objects: 100% (147/147), 74.56 KiB | 5.33 MiB/s, done.\n",
            "Resolving deltas: 100% (79/79), done.\n"
          ],
          "name": "stdout"
        }
      ]
    },
    {
      "cell_type": "code",
      "metadata": {
        "id": "Kev-EUI1Z9Qb",
        "colab": {
          "base_uri": "https://localhost:8080/"
        },
        "outputId": "7f19ad5e-943c-41cd-fbd7-2776acc9c816"
      },
      "source": [
        "!pip install -r requirements.txt"
      ],
      "execution_count": null,
      "outputs": [
        {
          "output_type": "stream",
          "text": [
            "Requirement already satisfied: lxml in /usr/local/lib/python3.7/dist-packages (from -r requirements.txt (line 1)) (4.2.6)\n",
            "Requirement already satisfied: BeautifulSoup4 in /usr/local/lib/python3.7/dist-packages (from -r requirements.txt (line 2)) (4.6.3)\n",
            "Requirement already satisfied: requests in /usr/local/lib/python3.7/dist-packages (from -r requirements.txt (line 3)) (2.23.0)\n",
            "Requirement already satisfied: bs4 in /usr/local/lib/python3.7/dist-packages (from -r requirements.txt (line 4)) (0.0.1)\n",
            "Requirement already satisfied: certifi>=2017.4.17 in /usr/local/lib/python3.7/dist-packages (from requests->-r requirements.txt (line 3)) (2020.12.5)\n",
            "Requirement already satisfied: idna<3,>=2.5 in /usr/local/lib/python3.7/dist-packages (from requests->-r requirements.txt (line 3)) (2.10)\n",
            "Requirement already satisfied: urllib3!=1.25.0,!=1.25.1,<1.26,>=1.21.1 in /usr/local/lib/python3.7/dist-packages (from requests->-r requirements.txt (line 3)) (1.24.3)\n",
            "Requirement already satisfied: chardet<4,>=3.0.2 in /usr/local/lib/python3.7/dist-packages (from requests->-r requirements.txt (line 3)) (3.0.4)\n"
          ],
          "name": "stdout"
        }
      ]
    },
    {
      "cell_type": "code",
      "metadata": {
        "id": "1Swq1dc0AHYj"
      },
      "source": [
        "# This step is important! \n",
        "# Though a temporary fix\n",
        "!cp amr_utils.py restoreAMR\n",
        "!cp best_amr_permutation.py restoreAMR\n",
        "!cp var_free_amrs.py restoreAMR"
      ],
      "execution_count": null,
      "outputs": []
    },
    {
      "cell_type": "code",
      "metadata": {
        "id": "tLdZC5JLOkh7"
      },
      "source": [
        "## Create test dataset\n",
        "!head -3 /content/test_web/webnlg_test_target.json > /content/test_web/test_repo.jsonl"
      ],
      "execution_count": null,
      "outputs": []
    },
    {
      "cell_type": "code",
      "metadata": {
        "id": "bl8IqXN06uqX",
        "cellView": "form"
      },
      "source": [
        "#@title\n",
        "# # Converts linearized AMRs to Penman notation\n",
        "# # Convert original WebNLP Source pairs\n",
        "# # Not needed for our current use\n",
        "\n",
        "# import json\n",
        "\n",
        "# # Loads linear AMRs from dataset and stores the Penman AMRs in new dataset\n",
        "# def linear_to_penman_dataset(input_file):\n",
        "  \n",
        "#     modified_entries = []\n",
        "#     for line in open(input_file, 'r'):\n",
        "#       modified_entry = {}\n",
        "\n",
        "#       line_json = json.loads(line)\n",
        "#       source = line_json[\"source_amrs\"]\n",
        "#       output = line_json[\"output_amr\"]\n",
        "\n",
        "#       # convert source and output amrs to Penman notation\n",
        "#       new_source = linear_to_penman(source)\n",
        "#       new_output = linear_to_penman(source)\n",
        "\n",
        "#       modified_entry[\"source_amrs\"] = new_source\n",
        "#       modified_entry[\"output_amr\"] = new_output\n",
        "      \n",
        "#       modified_entries.append(json.dumps(modified_entry))\n",
        "\n",
        "\n",
        "#     with open(input_file + \".penman\", 'w') as f:\n",
        "#         for entry in modified_entries:\n",
        "#             f.write(\"%s\\n\" % entry)\n",
        "\n",
        "\n",
        "# # Convert linear AMR to Penman\n",
        "# ######################\n",
        "# # This is the function to use\n",
        "# ######################\n",
        "# def linear_to_penman(amr):\n",
        "#     with open('/content/temp_converter/entry.jsonl', 'w') as f:\n",
        "#       f.write(amr)\n",
        "\n",
        "#     linear_to_penman_pipeline()\n",
        "\n",
        "#     with open('/content/temp_converter/entry.jsonl.restored.txt', 'r') as f:\n",
        "#       penman_amr = f.read().rstrip()\n",
        "\n",
        "#     return penman_amr\n",
        "\n",
        "\n",
        "# # Pipeline that calls the files to convert linear to AMR\n",
        "# def linear_to_penman_pipeline():\n",
        "#     !python char_level_AMR.py -f  /content/temp_converter/entry.jsonl  --super_chars\n",
        "#     !python restoreAMR/restore_amr.py -f /content/temp_converter/entry.jsonl -o /content/temp_converter/entry.jsonl.restored\n",
        "#     !python reformat_single_amrs.py -f /content/temp_converter/entry.jsonl.restored -v"
      ],
      "execution_count": null,
      "outputs": []
    },
    {
      "cell_type": "code",
      "metadata": {
        "id": "gUcf98lsKIPN",
        "cellView": "form"
      },
      "source": [
        "#@title\n",
        "# # Converts linearized AMRs to Penman notation\n",
        "# # Outdated function - converts a single AMR instead of a file full of AMRs\n",
        "# import json\n",
        "\n",
        "# # Loads linear AMRs from dataset and stores the Penman AMRs in new dataset\n",
        "# def linear_to_penman_dataset(input_file):\n",
        "  \n",
        "#     modified_entries = []\n",
        "#     for line in open(input_file, 'r'):\n",
        "#       modified_entry = {}\n",
        "\n",
        "#       amr = json.loads(line)\n",
        "\n",
        "#       # convert source and output amrs to Penman notation\n",
        "#       new_amr = linear_to_penman(amr)\n",
        "      \n",
        "#       modified_entries.append(new_amr)\n",
        "\n",
        "#     output_file = input_file.replace(\".json\", \"_penman.json\")\n",
        "#     with open(output_file, 'w') as f:\n",
        "#         for entry in modified_entries:\n",
        "#             f.write(json.dumps(entry) + \"\\n\")\n",
        "\n",
        "\n",
        "# # Convert linear AMR to Penman\n",
        "# ######################\n",
        "# # This is the function to use\n",
        "# ######################\n",
        "# def linear_to_penman(amr):\n",
        "#     with open('/content/temp_converter/entry.jsonl', 'w') as f:\n",
        "#       f.write(amr)\n",
        "\n",
        "#     linear_to_penman_pipeline()\n",
        "\n",
        "#     with open('/content/temp_converter/entry.jsonl.restored.txt', 'r') as f:\n",
        "#       penman_amr = f.read().rstrip()\n",
        "\n",
        "#     return penman_amr\n",
        "\n",
        "\n",
        "# # Pipeline that calls the files to convert linear to AMR\n",
        "# def linear_to_penman_pipeline():\n",
        "#     !python char_level_AMR.py -f  /content/temp_converter/entry.jsonl  --super_chars \n",
        "#     !python restoreAMR/restore_amr.py -f /content/temp_converter/entry.jsonl -o /content/temp_converter/entry.jsonl.restored\n",
        "#     !python reformat_single_amrs.py -f /content/temp_converter/entry.jsonl.restored -v"
      ],
      "execution_count": null,
      "outputs": []
    },
    {
      "cell_type": "code",
      "metadata": {
        "id": "PuPNk5Om76LE"
      },
      "source": [
        "# Convert amrs conpied into the temp files below into their Penman notation\n",
        "def to_penman():\n",
        "  !python char_level_AMR.py -f  /content/test_web/test.jsonl  --super_chars --amr_ext \".jsonl\"\n",
        "  !python restoreAMR/restore_amr.py -f /content/test_web/test.char.jsonl -o /content/test_web/test.char.restored.json\n",
        "  !python reformat_single_amrs.py -f /content/test_web/test.char.restored.json"
      ],
      "execution_count": null,
      "outputs": []
    },
    {
      "cell_type": "code",
      "metadata": {
        "id": "5J8nLi0dwNEU"
      },
      "source": [
        "from google.colab import files\n",
        "import re\n",
        "# Convert amrs in the input file into the Penman notation\n",
        "def convert_file_to_penman(inputfile):\n",
        "\n",
        "  \n",
        "  # # Preprocess the AMRs\n",
        "  # with open(inputfile, 'r') as f:\n",
        "  #   lines = f.read()#[:-1]\n",
        "  #   amrs = lines.split(\"\\n\")\n",
        "  #   amrs = [amr[1:-3] for amr in amrs]       # Remove the start and end quotes\n",
        "  #   amrs = [re.sub('\\\\\\\\', '', amr) for amr in amrs]  # remove excess escape characters\n",
        "  # # Copy the processed input file AMRs into a temporary file\n",
        "  # with open('/content/test_web/test.jsonl', 'w') as f:\n",
        "  #   f.write(amrs[0])\n",
        "  #   for amr in amrs[1:]:\n",
        "  #     f.write(\"\\n\" + amr)\n",
        "\n",
        "\n",
        "  ##################################################\n",
        "  ## This was where the problem was\n",
        "  ##################################################\n",
        "\n",
        "  # Preprocess the AMRs\n",
        "  with open(inputfile, 'r') as f:\n",
        "    lines = f.read()\n",
        "    amrs = lines.split(\"\\n\")\n",
        "  # Copy the processed input file AMRs into a temporary file\n",
        "  with open('/content/test_web/test.jsonl', 'w') as f:\n",
        "    f.write(amrs[0])\n",
        "    for amr in amrs[1:]:\n",
        "      f.write(\"\\n\" + amr)\n",
        "\n",
        "\n",
        "\n",
        "  # Convert linearized AMRS in the temporary file to their Penman notation\n",
        "  to_penman()\n",
        "\n",
        "\n",
        "  # Copy converted AMRs from temporary files to intended output file\n",
        "  with open('/content/test_web/test.char.restored.json.txt', 'r') as f:\n",
        "    lines = f.read()\n",
        "\n",
        "  outputfile = inputfile.replace(\".\", \"_out.\")\n",
        "  with open(outputfile, 'w') as f:\n",
        "    f.write(lines)\n",
        "\n",
        "  # Uncomment to download the output file\n",
        "  # files.download(outputfile) \n",
        "\n"
      ],
      "execution_count": null,
      "outputs": []
    },
    {
      "cell_type": "code",
      "metadata": {
        "id": "6v8WYhYn730f",
        "colab": {
          "base_uri": "https://localhost:8080/"
        },
        "outputId": "d9a0689e-bf94-481f-9a01-463f210b879f"
      },
      "source": [
        "# Convert linear AMRs to Penman noation\n",
        "\n",
        "# convert_file_to_penman('/content/test_web/test.jsonl')   # test file\n",
        "# convert_file_to_penman('/content/test_web/test_mod.jsonl')   # test file\n",
        "convert_file_to_penman('/content/test_web/webnlg_gen.txt')   # test file\n",
        "convert_file_to_penman('/content/test_web/webnlg_gen_bracketized.txt')   # test file\n",
        "# convert_file_to_penman('/content/test_web/webnlg_test_target.json')   # webnlg_test\n",
        "# convert_file_to_penman('/content/webnlg_test_source.json')   # webnlg_test\n",
        "# convert_file_to_penman('/content/webnlg_test_target.json')   # webnlg_test"
      ],
      "execution_count": null,
      "outputs": [
        {
          "output_type": "stream",
          "text": [
            "AMR file, super characters\n",
            "AMR file, super characters\n"
          ],
          "name": "stdout"
        }
      ]
    },
    {
      "cell_type": "code",
      "metadata": {
        "id": "6VbykrgJWqKV",
        "cellView": "form"
      },
      "source": [
        "#@title\n",
        "# failed approach at brute amr concatenation\n",
        "\n",
        "# for line in open(\"/content/test_web/test2.jsonl\", 'r'):\n",
        "#   line_json = json.loads(line)\n",
        "#   source = line_json[\"source_amrs\"]\n",
        "#   amr_attr = []\n",
        "#   headFound = False\n",
        "#   for s in source:\n",
        "#     # print(s, valid_amr(s))\n",
        "#     s_split = s.split(\"\\n\")\n",
        "#     if not headFound:\n",
        "#       head = s_split[0]\n",
        "#       headFound = True\n",
        "#     attr = \"\\n\".join(s_split[1:])\n",
        "#     amr_attr.append(attr)\n",
        "#     # print(attr)\n",
        "#   # new_amr = head + \"\\n\" + \"\\n\".join(amr_attr)\n",
        "#   new_amr = head + \"\\n\" + amr_attr[0]  + \"\\n\" +  amr_attr[0].replace(\"location\", \"ARG1\").replace(\":name\", \":ARG2\")\n",
        "#   print(new_amr, valid_amr(new_amr))\n",
        "#   print()\n",
        "#   print(\"\\n\\n\\n\\n\")"
      ],
      "execution_count": null,
      "outputs": []
    },
    {
      "cell_type": "code",
      "metadata": {
        "id": "FyEJPxzNbuOv"
      },
      "source": [
        "from amr_utils import valid_amr\n",
        "\n",
        "# count how many AMRs in Penman notation file are in valid format\n",
        "def check_penman_validity(inputfile):\n",
        "\n",
        "    with open(inputfile, 'r') as f:\n",
        "        lines = f.read()[:-1]\n",
        "        amrs = lines.split(\"\\n\\n\")\n",
        "        total_valid = 0\n",
        "        total_amrs = 0\n",
        "        for amr in amrs:\n",
        "            is_valid = valid_amr(amr) \n",
        "            if(is_valid == True):\n",
        "                total_valid += 1\n",
        "            total_amrs += 1\n",
        "    print(\"Valid AMRs / Total # Output:\")\n",
        "    print(total_valid, \"/\", total_amrs)\n",
        "    print(f\"{100*(total_valid / total_amrs):.2f}%\")\n"
      ],
      "execution_count": null,
      "outputs": []
    },
    {
      "cell_type": "code",
      "metadata": {
        "id": "BczPXKdLRPsE"
      },
      "source": [
        "# check_penman_validity('/content/test_web/webnlg_gen_bracketized_out.txt')\n",
        "# check_penman_validity('/content/test_web/webnlg_gen_out.txt')"
      ],
      "execution_count": null,
      "outputs": []
    },
    {
      "cell_type": "code",
      "metadata": {
        "id": "KOq3BCtOoyDB"
      },
      "source": [
        "from amr_utils import countparens\n",
        "\n",
        "def countparens_file(inputfile):\n",
        "    with open(inputfile) as file:\n",
        "        lines = file.read()\n",
        "        amrs = lines.split(\"\\n\")\n",
        "        \n",
        "        valid_outputs = 0\n",
        "        total_outputs = 0\n",
        "        for amr in amrs:\n",
        "            if(countparens(amr)):\n",
        "                valid_outputs += 1\n",
        "            else:\n",
        "                # print(amr)\n",
        "                pass\n",
        "            total_outputs += 1\n",
        "\n",
        "    print(f\"{100*(valid_outputs / total_outputs):.2f}%\")\n",
        "    return\n",
        "\n",
        "\n"
      ],
      "execution_count": null,
      "outputs": []
    },
    {
      "cell_type": "markdown",
      "metadata": {
        "id": "uDWP1W9Rj_Y8"
      },
      "source": [
        "Parsed pre-linearization Penman AMRs Train set"
      ]
    },
    {
      "cell_type": "code",
      "metadata": {
        "id": "KDKXNicXsNq-",
        "colab": {
          "base_uri": "https://localhost:8080/"
        },
        "outputId": "db308671-dbb8-408b-d79c-48001975725b"
      },
      "source": [
        "countparens_file('/content/test_web/webnlg_train_parsed.jsonl')\n",
        "# not sure why the script claims there are 4 unbalanced-paren amrs in the train set: I checked these by hand and they seem to be balanced"
      ],
      "execution_count": null,
      "outputs": [
        {
          "output_type": "stream",
          "text": [
            "99.97%\n"
          ],
          "name": "stdout"
        }
      ]
    },
    {
      "cell_type": "markdown",
      "metadata": {
        "id": "jKi4YO6LkSob"
      },
      "source": [
        "Parsed pre-linearization Penman AMRs Dev set"
      ]
    },
    {
      "cell_type": "code",
      "metadata": {
        "colab": {
          "base_uri": "https://localhost:8080/"
        },
        "id": "fGBXNKkwjRax",
        "outputId": "c0c0b514-1fe1-4aa2-d852-f1e417214326"
      },
      "source": [
        "countparens_file('/content/test_web/webnlg_dev_parsed.jsonl')"
      ],
      "execution_count": null,
      "outputs": [
        {
          "output_type": "stream",
          "text": [
            "100.00%\n"
          ],
          "name": "stdout"
        }
      ]
    },
    {
      "cell_type": "markdown",
      "metadata": {
        "id": "mOtaBxdwkb-C"
      },
      "source": [
        "Unedited Webnlg_gen"
      ]
    },
    {
      "cell_type": "code",
      "metadata": {
        "colab": {
          "base_uri": "https://localhost:8080/"
        },
        "id": "DUsFnwfBjEDT",
        "outputId": "ee5293bb-1d2d-41c8-be7d-a92aa8de0531"
      },
      "source": [
        "countparens_file('/content/test_web/webnlg_gen.txt')"
      ],
      "execution_count": null,
      "outputs": [
        {
          "output_type": "stream",
          "text": [
            "33.82%\n"
          ],
          "name": "stdout"
        }
      ]
    },
    {
      "cell_type": "code",
      "metadata": {
        "colab": {
          "base_uri": "https://localhost:8080/"
        },
        "id": "-muWz0PUiDqG",
        "outputId": "88305da1-3e1e-47df-9f50-65fc262737bf"
      },
      "source": [
        "# generated Penman\n",
        "countparens_file('/content/test_web/webnlg_gen_out.txt')"
      ],
      "execution_count": null,
      "outputs": [
        {
          "output_type": "stream",
          "text": [
            "23.49%\n"
          ],
          "name": "stdout"
        }
      ]
    },
    {
      "cell_type": "code",
      "metadata": {
        "colab": {
          "base_uri": "https://localhost:8080/"
        },
        "id": "lDp6561bjfW7",
        "outputId": "b271b474-2c42-439a-895c-54c5fa9bd89a"
      },
      "source": [
        "# generated Penman\n",
        "check_penman_validity('/content/test_web/webnlg_gen_out.txt')"
      ],
      "execution_count": null,
      "outputs": [
        {
          "output_type": "stream",
          "text": [
            "Error: name 'ERROR_LOG' is not defined\n",
            "(vv84multi-sentence / multi-sentence \n",
            "\t:snt2 (vv84and / and \n",
            "\t\t:op2 (vv84long-03 / long-03 \n",
            "\t\t\t:ARG2 (vv84distance-quantity / distance-quantity \n",
            "\t\t\t\t:unit (vv84meter / meter) :quant 3500.0)) \n",
            "\t\t:op1 (v841 / name :op3 \"14L/32R\" \n",
            "\t\t\t:mod (vv84runway / runway) :mod 14L/33R) \n",
            "\t\t:op0 (vv84airport / airport \n",
            "\t\t\t:name (v842 / name))) \n",
            "\t:ssnt1 (vv84operate-01 / operate-01 \n",
            "\t\t:location (vv84above / above \n",
            "\t\t\t:quant (vv84level / level :mod \"10L/28R\") :quant 610.0)))\n",
            "Error: name 'ERROR_LOG' is not defined\n",
            "(vv245multi-sentence / multi-sentence \n",
            "\t:snt2 (vv245and / and \n",
            "\t\t:op2 (vv245long-03 / long-03 \n",
            "\t\t\t:ARG2 (vv245distance-quantity / distance-quantity \n",
            "\t\t\t\t:unit (vv245meter / meter) :quant 4349.0)) \n",
            "\t\t:op1 (v2451 / name :op4 \"Barajas\" :op3 \"–++ \n",
            "\t\t\t:mod+ (vv245runway / runway) + :mod+\"14R/32L \"+) + \n",
            "\t\t:op0+ (vv245airport / airport+ \n",
            "\t\t\t:location+ (vv245city / city+ \n",
            "\t\t\t\t:name+ (v2452 / name)))))\n",
            "Error: name 'ERROR_LOG' is not defined\n",
            "(vv247multi-sentence / multi-sentence \n",
            "\t:snt2 (vv247and / and \n",
            "\t\t:op2 (vv247long-03 / long-03 \n",
            "\t\t\t:ARG2 (vv247distance-quantity / distance-quantity \n",
            "\t\t\t\t:unit (vv247meter / meter) :quant 4349.0)) \n",
            "\t\t:op1 (v2471 / name :op4 \"Barajas\" :op3 \"–++ \n",
            "\t\t\t:mod+ (vv247runway / runway) + :mod+\"14R/32L \"+) + \n",
            "\t\t:op0+ (vv247airport / airport+ \n",
            "\t\t\t:name+ (v2472 / name))) + \n",
            "\t:op+1+ (vv247be-located-at-91 / be-located-at-91) + \n",
            "\t:op5+ (vv247city / city+ :name+p1+ \n",
            "\t\t:location+ (vv247country / country) + :name+c1) + :location+c 0)\n",
            "Error: name 'ERROR_LOG' is not defined\n",
            "(vv297multi-sentence / multi-sentence \n",
            "\t:snt2 (vv297and / and \n",
            "\t\t:op2 (vv297long-03 / long-03 \n",
            "\t\t\t:ARG2 (vv297distance-quantity / distance-quantity \n",
            "\t\t\t\t:unit (vv297meter / meter) :quant 3500.0)) \n",
            "\t\t:op1 (v2971 / name :op3 \"Barajas\" :mod \"Adolfo\") \n",
            "\t\t:mod (vv297aircraft-type / aircraft-type \n",
            "\t\t\t:name (v2972 / name)) :mod 18L/36R) \n",
            "\t:op0 (vv297run-01 / run-01 \n",
            "\t\t:location (vv297airport / airport :location \"ENAIRE\")) :location \"a\" 2)\n",
            "Error: list index out of range\n",
            "\n",
            "Error: name 'ERROR_LOG' is not defined\n",
            "(vv385multi-sentence / multi-sentence \n",
            "\t:snt2 (vv385and / and \n",
            "\t\t:op2 (vv385long-03 / long-03 \n",
            "\t\t\t:ARG2 (vv385distance-quantity / distance-quantity \n",
            "\t\t\t\t:unit (vv385meter / meter) :quant 4349.0)) \n",
            "\t\t:op1 (v3851 / name :op4 \"Barajas\" :op3 \"–++ \n",
            "\t\t\t:mod+ (vv385runway / runway) + :mod+\"14R/32L \"+) + \n",
            "\t\t:op0+ (vv385airport / airport+ \n",
            "\t\t\t:location+ (vv385country / country+ \n",
            "\t\t\t\t:name+ (v3852 / name))) + \n",
            "\t\t:op5+ (vv385above / above+ \n",
            "\t\t\t:quant+ (vvvv3853 / above)) + \n",
            "\t\t:op6+ (vv385level / level+ :mod+c1) + \n",
            "\t\t:op7+ (vv385city / city+ :name+n1+ :location+c 0)))\n",
            "Error: name 'ERROR_LOG' is not defined\n",
            "(vv539multi-sentence / multi-sentence \n",
            "\t:snt2 (vv539and / and \n",
            "\t\t:op2 (vv539long-03 / long-03 \n",
            "\t\t\t:ARG2 (vv539distance-quantity / distance-quantity \n",
            "\t\t\t\t:unit (vv539meter / meter) :quant 4349.0)) \n",
            "\t\t:op1 (vv539name-01 / name-01 \n",
            "\t\t\t:mod (vv539runway / runway) :mod 14L/32R) \n",
            "\t\t:ARg1 (vv539airport / airport \n",
            "\t\t\t:name (v5391 / name :op4 \"Barajas\" :op3 \"Suarez\")) :mod \"Adolfo\") \n",
            "\t:location (vv539it / it) \n",
            "\t:location-of (vv539operate-01 / operate-01))\n",
            "Error: name 'ERROR_LOG' is not defined\n",
            "(vv744multi-sentence / multi-sentence \n",
            "\t:snt2 (vv744and / and \n",
            "\t\t:op2 (vv744star-01 / star-01 \n",
            "\t\t\t:ARG2 (vv744person / person \n",
            "\t\t\t\t:name (v7441 / name :op3 \"Katzman\" :op1 \"Stacy\")) \n",
            "\t\t\t:mod (vv744also / also) \n",
            "\t\t\t:time (vv744now / now) :mod \"p\" 1) \n",
            "\t\t:op0 (vv744broadcast-program / broadcast-program \n",
            "\t\t\t:domain (vv744publication / publication \n",
            "\t\t\t\t:location (vv744language / language) \n",
            "\t\t\t\t:location-of (vv744write-01 / write-01)) :mod \"Capers\") :domain \"p\" 1 :mod \"w\" 0) : \n",
            "\t:op4 (vv744star / star \n",
            "\t\t:poss (vvvv7442 / person)))\n",
            "Error: name 'ERROR_LOG' is not defined\n",
            "(vv1068multi-sentence / multi-sentence \n",
            "\t:snt2 (vv1068and / and \n",
            "\t\t:op2 (vv1068die-01 / die-01 \n",
            "\t\t\t:ARG1 (vv1068person / person \n",
            "\t\t\t\t:name (v10681 / name :op3 \"Bartz\" :op1 \"Geof\")) \n",
            "\t\t\t:location (vv1068company / company :name \"p\" 1) \n",
            "\t\t\t:time (vv1068after / after)) \n",
            "\t\t:op0 (vv1068produce-01 / produce-01) \n",
            "\t\t:op4 (vvvv10682 / person) \n",
            "\t\t:mod (vv1068also / also) \n",
            "\t\t:poss (vv1068it / it) :location \"c\" 1 :mod \"c\" 0) : \n",
            "\t:op5 (vv1068person-name / person-name :name \"n\" 1 :name \"g\" 0 :name \"h\" 0 :mod \"HBO\") :mod \"g\" 0)\n",
            "Error: list index out of range\n",
            "\n",
            "Error: list index out of range\n",
            "\n",
            "Error: list index out of range\n",
            "\n",
            "Valid AMRs / Total # Output:\n",
            "1765 / 1779\n",
            "99.21%\n"
          ],
          "name": "stdout"
        }
      ]
    },
    {
      "cell_type": "markdown",
      "metadata": {
        "id": "bPo86u79kinE"
      },
      "source": [
        "Edited webnlg_gen with brackets balanced"
      ]
    },
    {
      "cell_type": "code",
      "metadata": {
        "colab": {
          "base_uri": "https://localhost:8080/"
        },
        "id": "lISDvR8oicE1",
        "outputId": "24d448da-8c76-4aa7-d353-2ed633cc74c7"
      },
      "source": [
        "countparens_file('/content/test_web/webnlg_gen_bracketized.txt')"
      ],
      "execution_count": null,
      "outputs": [
        {
          "output_type": "stream",
          "text": [
            "100.00%\n"
          ],
          "name": "stdout"
        }
      ]
    },
    {
      "cell_type": "code",
      "metadata": {
        "colab": {
          "base_uri": "https://localhost:8080/"
        },
        "id": "O783T8MBiH2E",
        "outputId": "5f753c5a-6f9c-44f8-d037-da52b296ede5"
      },
      "source": [
        "# generated Penman\n",
        "countparens_file('/content/test_web/webnlg_gen_bracketized_out.txt')"
      ],
      "execution_count": null,
      "outputs": [
        {
          "output_type": "stream",
          "text": [
            "23.49%\n"
          ],
          "name": "stdout"
        }
      ]
    },
    {
      "cell_type": "code",
      "metadata": {
        "colab": {
          "base_uri": "https://localhost:8080/"
        },
        "id": "J5UGN_WXiz0L",
        "outputId": "a2fefd2d-867a-4702-b88a-846e988a1e02"
      },
      "source": [
        "# generated Penman\n",
        "check_penman_validity('/content/test_web/webnlg_gen_bracketized_out.txt')"
      ],
      "execution_count": null,
      "outputs": [
        {
          "output_type": "stream",
          "text": [
            "Error: name 'ERROR_LOG' is not defined\n",
            "(vv84multi-sentence / multi-sentence \n",
            "\t:snt2 (vv84and / and \n",
            "\t\t:op2 (vv84long-03 / long-03 \n",
            "\t\t\t:ARG2 (vv84distance-quantity / distance-quantity \n",
            "\t\t\t\t:unit (vv84meter / meter) :quant 3500.0)) \n",
            "\t\t:op1 (v841 / name :op3 \"14L/32R\" \n",
            "\t\t\t:mod (vv84runway / runway) :mod 14L/33R) \n",
            "\t\t:op0 (vv84airport / airport \n",
            "\t\t\t:name (v842 / name))) \n",
            "\t:ssnt1 (vv84operate-01 / operate-01 \n",
            "\t\t:location (vv84above / above \n",
            "\t\t\t:quant (vv84level / level :mod \"10L/28R\") :quant 610.0) \n",
            "\t\t:location-of (vv84city / city :location \"Madrid)))\n",
            "Error: name 'ERROR_LOG' is not defined\n",
            "(vv245multi-sentence / multi-sentence \n",
            "\t:snt2 (vv245and / and \n",
            "\t\t:op2 (vv245long-03 / long-03 \n",
            "\t\t\t:ARG2 (vv245distance-quantity / distance-quantity \n",
            "\t\t\t\t:unit (vv245meter / meter) :quant 4349.0)) \n",
            "\t\t:op1 (v2451 / name :op4 \"Barajas\" :op3 \"–++ \n",
            "\t\t\t:mod+ (vv245runway / runway) + :mod+\"14R/32L \"+) + \n",
            "\t\t:op0+ (vv245airport / airport+ \n",
            "\t\t\t:location+ (vv245city / city+ \n",
            "\t\t\t\t:name+ (v2452 / name)))))\n",
            "Error: name 'ERROR_LOG' is not defined\n",
            "(vv247multi-sentence / multi-sentence \n",
            "\t:snt2 (vv247and / and \n",
            "\t\t:op2 (vv247long-03 / long-03 \n",
            "\t\t\t:ARG2 (vv247distance-quantity / distance-quantity \n",
            "\t\t\t\t:unit (vv247meter / meter) :quant 4349.0)) \n",
            "\t\t:op1 (v2471 / name :op4 \"Barajas\" :op3 \"–++ \n",
            "\t\t\t:mod+ (vv247runway / runway) + :mod+\"14R/32L \"+) + \n",
            "\t\t:op0+ (vv247airport / airport+ \n",
            "\t\t\t:name+ (v2472 / name))) + \n",
            "\t:op+1+ (vv247be-located-at-91 / be-located-at-91) + \n",
            "\t:op5+ (vv247city / city+ :name+p1+ \n",
            "\t\t:location+ (vv247country / country) + :name+c1) + :location+c 0)\n",
            "Error: name 'ERROR_LOG' is not defined\n",
            "(vv297multi-sentence / multi-sentence \n",
            "\t:snt2 (vv297and / and \n",
            "\t\t:op2 (vv297long-03 / long-03 \n",
            "\t\t\t:ARG2 (vv297distance-quantity / distance-quantity \n",
            "\t\t\t\t:unit (vv297meter / meter) :quant 3500.0)) \n",
            "\t\t:op1 (v2971 / name :op3 \"Barajas\" :mod \"Adolfo\") \n",
            "\t\t:mod (vv297aircraft-type / aircraft-type \n",
            "\t\t\t:name (v2972 / name)) :mod 18L/36R) \n",
            "\t:op0 (vv297run-01 / run-01 \n",
            "\t\t:location (vv297airport / airport :location \"ENAIRE\")) :location \"a\" 2)\n",
            "Error: name 'ERROR_LOG' is not defined\n",
            "(vv385multi-sentence / multi-sentence \n",
            "\t:snt2 (vv385and / and \n",
            "\t\t:op2 (vv385long-03 / long-03 \n",
            "\t\t\t:ARG2 (vv385distance-quantity / distance-quantity \n",
            "\t\t\t\t:unit (vv385meter / meter) :quant 4349.0)) \n",
            "\t\t:op1 (v3851 / name :op4 \"Barajas\" :op3 \"–++ \n",
            "\t\t\t:mod+ (vv385runway / runway) + :mod+\"14R/32L \"+) + \n",
            "\t\t:op0+ (vv385airport / airport+ \n",
            "\t\t\t:location+ (vv385country / country+ \n",
            "\t\t\t\t:name+ (v3852 / name))) + \n",
            "\t\t:op5+ (vv385above / above+ \n",
            "\t\t\t:quant+ (vvvv3853 / above)) + \n",
            "\t\t:op6+ (vv385level / level+ :mod+c1) + \n",
            "\t\t:op7+ (vv385city / city+ :name+n1+ :location+c0)) +)\n",
            "Error: name 'ERROR_LOG' is not defined\n",
            "(vv539multi-sentence / multi-sentence \n",
            "\t:snt2 (vv539and / and \n",
            "\t\t:op2 (vv539long-03 / long-03 \n",
            "\t\t\t:ARG2 (vv539distance-quantity / distance-quantity \n",
            "\t\t\t\t:unit (vv539meter / meter) :quant 4349.0)) \n",
            "\t\t:op1 (vv539name-01 / name-01 \n",
            "\t\t\t:mod (vv539runway / runway) :mod 14L/32R) \n",
            "\t\t:ARg1 (vv539airport / airport \n",
            "\t\t\t:name (v5391 / name :op4 \"Barajas\" :op3 \"Suarez\")) :mod \"Adolfo\") \n",
            "\t:location (vv539it / it) \n",
            "\t:location-of (vv539operate-01 / operate-01) \n",
            "\t:ARR0 (vv539aircraft-type / aircraft-type :name \"p\" 1))\n",
            "Error: name 'ERROR_LOG' is not defined\n",
            "(vv744multi-sentence / multi-sentence \n",
            "\t:snt2 (vv744and / and \n",
            "\t\t:op2 (vv744star-01 / star-01 \n",
            "\t\t\t:ARG2 (vv744person / person \n",
            "\t\t\t\t:name (v7441 / name :op3 \"Katzman\" :op1 \"Stacy\")) \n",
            "\t\t\t:mod (vv744also / also) \n",
            "\t\t\t:time (vv744now / now) :mod \"p\" 1) \n",
            "\t\t:op0 (vv744broadcast-program / broadcast-program \n",
            "\t\t\t:domain (vv744publication / publication \n",
            "\t\t\t\t:location (vv744language / language) \n",
            "\t\t\t\t:location-of (vv744write-01 / write-01)) :mod \"Capers\") :domain \"p\" 1 :mod \"w\" 0) : \n",
            "\t:op4 (vv744star / star \n",
            "\t\t:poss (vvvv7442 / person) :domain \"c\" 1 :domain \"w\" 0))\n",
            "Error: name 'ERROR_LOG' is not defined\n",
            "(vv1068multi-sentence / multi-sentence \n",
            "\t:snt2 (vv1068and / and \n",
            "\t\t:op2 (vv1068die-01 / die-01 \n",
            "\t\t\t:ARG1 (vv1068person / person \n",
            "\t\t\t\t:name (v10681 / name :op3 \"Bartz\" :op1 \"Geof\")) \n",
            "\t\t\t:location (vv1068company / company :name \"p\" 1) \n",
            "\t\t\t:time (vv1068after / after)) \n",
            "\t\t:op0 (vv1068produce-01 / produce-01) \n",
            "\t\t:op4 (vvvv10682 / person) \n",
            "\t\t:mod (vv1068also / also) \n",
            "\t\t:poss (vv1068it / it) :location \"c\" 1 :mod \"c\" 0) : \n",
            "\t:op5 (vv1068person-name / person-name :name \"n\" 1 :name \"g\" 0 :name \"h\" 0 :mod \"HBO\") :mod \"g\" 0)\n",
            "Error: name 'ERROR_LOG' is not defined\n",
            "(vv1644multi-sentence / multi-sentence \n",
            "\t:snt2 (vv1644and / and \n",
            "\t\t:op2 (vv1644person / person \n",
            "\t\t\t:ARG0-of (vv1644lead-02 / lead-02) \n",
            "\t\t\t:name (v16441 / name :op3 \"Ayala\" :op1 \"Ciudad\") \n",
            "\t\t\t:mod (vv1644have-org-role-91 / have-org-role-91) \n",
            "\t\t\t:domain (vv1644governor / governor)) \n",
            "\t\t:opop1 (vv1644population / population \n",
            "\t\t\t:quant (vv1644rate-entity-91 / rate-entity-91 \n",
            "\t\t\t\t:time (vv1644date-entity / date-entity :day 19 :month 1 :year 1787539) :time \"p\" 1)) :mod \"snt1\" (vv1644be-located-at-91 / be-located-at-91.ARG2 (vv1644zone / zone))))\n",
            "Valid AMRs / Total # Output:\n",
            "1752 / 1779\n",
            "98.48%\n"
          ],
          "name": "stdout"
        }
      ]
    },
    {
      "cell_type": "code",
      "metadata": {
        "id": "hwnEHtT_j48m"
      },
      "source": [
        ""
      ],
      "execution_count": null,
      "outputs": []
    }
  ]
}